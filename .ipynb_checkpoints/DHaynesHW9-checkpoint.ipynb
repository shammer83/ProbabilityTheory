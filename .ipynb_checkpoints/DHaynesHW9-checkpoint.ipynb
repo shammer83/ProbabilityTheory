{
 "cells": [
  {
   "cell_type": "markdown",
   "metadata": {},
   "source": [
    "Derek Haynes\n",
    "\n",
    "Probability Theory \n",
    "\n",
    "HW 9"
   ]
  },
  {
   "cell_type": "markdown",
   "metadata": {},
   "source": [
    "### Exercise 4.2\n",
    "\n",
    "Given: The probability of getting a single pair in a poker hand of 5 cards is approximately 0.42.  Find the approximate probability that out of 1000 poker hands, there will be at leas 450 with a single pair. \n"
   ]
  },
  {
   "cell_type": "markdown",
   "metadata": {},
   "source": [
    "Solution: \n",
    "\n",
    "$P(X_{1000} \\ge 450) = 1 - P(X_{1000} < 450)$ \n",
    "\n",
    "Therefore ...\n",
    "\n",
    "$\\mu = n \\cdot p = 420$\n",
    "\n",
    "$\\sigma^2 = np(1-p) = 243.6$ \n",
    "\n",
    "$1 - P(Z < \\frac{450 - 420}{\\sqrt{243.6}} )$\n",
    "\n",
    "$1- P(z < 1.922) = 1- 0.9726 = 0.0274$"
   ]
  },
  {
   "cell_type": "markdown",
   "metadata": {},
   "source": [
    "### Exercise 4.3 \n",
    "\n",
    "Given: Approximate the probability that out of 300 die rolls we get exactly 100 numbers that are multiple of 3 \n",
    "\n"
   ]
  },
  {
   "cell_type": "markdown",
   "metadata": {},
   "source": [
    "Solution: \n",
    "\n",
    "$S_n$ ~ $Bin(300, 1/3)$\n",
    "\n",
    "$np = 100$\n",
    "\n",
    "$\\sigma^2 = np(1-p) = \\frac{200}{3}$\n",
    "\n",
    "$P(99.5 \\le S_n \\le 100.5)$\n",
    "\n",
    "`using CLT`\n",
    "\n",
    "$= P(\\frac{99.5 - 100}{\\sqrt66.6667} \\le Z \\frac{\\le 100.5 - 100}{\\sqrt66.6667})$\n",
    "\n",
    "$ = P(-0.06 \\le Z \\le 0.06)$\n",
    "\n",
    "$ = P(Z \\le 0.06) - P(Z \\le -0.06)$\n",
    "\n",
    "$=\\Phi(0.06) - \\Phi(-.06)$\n",
    "\n",
    "$=\\Phi(0.06) - (1 - \\Phi(0.06))$\n",
    "\n",
    "$= \\Phi(0.06) + \\Phi(0.06) - 1$\n",
    "\n",
    "$= 0.5239 + 0.5239 - 1 = 0.0478$"
   ]
  },
  {
   "cell_type": "markdown",
   "metadata": {},
   "source": [
    "### Exercise 4.4\n",
    "\n",
    "Given: Liz is standing on the real number line at position 0.  She rolls a die repeatedly.  If the roll is 1 or 2 she takes one step to the right (in the positive direction).  If the roll is 3,4,5,06 she takes two steps to the right. \n",
    "Let $X_n$ be Liz's position after n rolls of the die.  Estimate the probability that $X_{90}$ is at least 160 steps.  \n",
    "\n",
    "Also, by using the Continuity Correction, estimate the probability that $X_{90}$ is at least 160."
   ]
  },
  {
   "cell_type": "markdown",
   "metadata": {},
   "source": [
    "$Xn$ = number of steps taken up to and including the nth die roll \n",
    "\n",
    "$Sn$ = number of $1,2$s in n rolls.  \n",
    "\n",
    "$Sn$ ~ $Bin(160, \\frac{1}{3})$\n",
    "\n",
    "$Xn = 1Sn + 2(n-Sn) = 2n - Sn$ \n",
    "\n",
    "$\\mu = np = \\frac{90}{3} = 30$\n",
    "\n",
    "$\\sigma^2 = np(1-p) = 20$\n",
    "\n",
    "$P(X_{90} \\ge 160)  = P(180 - S_{90} \\ge 160) = P(-S_{90} \\ge -20)$ \n",
    "\n",
    "$P(S_{90} < 20)$\n",
    "\n",
    "`using CLT` \n",
    "\n",
    "$P(Z < \\frac{20 - 30}{\\sqrt20})$\n",
    "\n",
    "$P(Z < -2.23)$\n",
    "\n",
    "$\\Phi(-2.23) = 1- \\Phi(2.23) = 1- .9871 = 0.0129$ \n",
    "\n"
   ]
  },
  {
   "cell_type": "markdown",
   "metadata": {},
   "source": [
    "`by continuity correction`\n",
    "\n",
    "$P(159.5 \\le X_{90} \\le 160.5)$\n",
    "\n",
    "$P(159.5 \\le 180-S_{90} \\le 160.5)$\n",
    "\n",
    "$P(-20.5 \\le -S_{90} \\le -19.5)$\n",
    "\n",
    "$P(20.5 \\ge S_{90}) + P(S_{90} \\ge 19.5)$\n",
    "\n",
    "$= P(19.5 \\le S_{90} \\le 20.5)$\n",
    "\n",
    "$ = P(\\frac{19.5 - 30 }{\\sqrt20} \\le Z \\le \\frac{20.5 - 30}{\\sqrt20})$\n",
    "\n",
    "$ = P(-2.34 \\le Z \\le -2.12)$\n",
    "\n",
    "$=\\Phi(-2.12) - \\Phi(-2.34)$\n",
    "\n",
    "$ = (1 - \\Phi(2.12)) - (1-\\Phi(2.34))$\n",
    "\n",
    "$ = 0.0074$"
   ]
  },
  {
   "cell_type": "markdown",
   "metadata": {},
   "source": [
    "### Exercise 4.21\n",
    "\n",
    "Given: In a game, you win 10 dollars with probability $\\frac{1}{20}$ and lose 1 dollar with probability $\\frac{19}{20}$ Approximate the probability that you lost less than 100 dollars after the first 200 games. "
   ]
  },
  {
   "cell_type": "markdown",
   "metadata": {},
   "source": [
    "Solution: \n",
    "\n",
    "$S_n =$ number of wins after n games\n",
    "\n",
    "$X_n =$ amount of winnings after the first n games\n",
    "\n",
    "Therefore $X_n = 10Sn - (n - Sn) = 11Sn - n$\n",
    "\n",
    "and $X_{200} = 11S_{200} - 200$\n",
    "\n",
    "$\\mu = np = 10$\n",
    "\n",
    "$\\sigma^2 = np(1-p) = 9.5$\n",
    "\n",
    "$P(X_{200} > -100) = P(11S_{200} - 200 > -100)$\n",
    "\n",
    "$ = P(S_{200} > \\frac{100}{11})$\n",
    "\n",
    "$ = P(S_{200} > 9.091)$\n",
    "\n",
    "`continuity correction applied`\n",
    "\n",
    "$ = P(S_{200} > 9.5)$\n",
    "\n",
    "$ = P(Z > \\frac{9.091 - 10}{\\sqrt9.5})$\n",
    "\n",
    "$ = P(Z > -0.162) $\n",
    "\n",
    "$ = 1 - P(Z < -0.162)$\n",
    "\n",
    "$ = 1 - \\Phi(-0.162)$ \n",
    "\n",
    "$ = 1 -(1  - \\Phi(0.162))$ \n",
    "\n",
    "$ = 0.5636$\n"
   ]
  },
  {
   "cell_type": "markdown",
   "metadata": {},
   "source": [
    "### Exercise 4.5 \n",
    "\n",
    "Consider the setup of Exercise 4.4.  Find the limits below and explain your answer. \n",
    "\n",
    "a) Find $lim_{n\\rightarrow \\infty} P(X_n > 1.6n)$\n",
    "\n",
    "solution: \n",
    "\n",
    "$S_n$ ~ $Bin(n, \\frac{2}{3})$\n",
    "\n",
    "$=lim_{n\\rightarrow \\infty} P(X_n > 1.6n)$\n",
    "\n",
    "$=lim_{n\\rightarrow \\infty} P(S_n + n > 1.6n)$\n",
    "\n",
    "$=lim_{n\\rightarrow \\infty} P(S_n > 0.6n)$\n",
    "\n",
    "$=lim_{n\\rightarrow \\infty} P(\\frac{S_n}{n} - \\frac{2}{3} > 0.6 - \\frac{2}{3})$\n",
    "\n",
    "$=lim_{n\\rightarrow \\infty} P(\\frac{S_n}{n} - \\frac{2}{3} > - \\frac{1}{15})$\n",
    "\n",
    "$\\ge lim_{n\\rightarrow \\infty} P(\\frac{S_n}{n} - \\frac{2}{3} < \\frac{1}{15}) = 1$\n",
    "\n"
   ]
  },
  {
   "cell_type": "markdown",
   "metadata": {},
   "source": [
    "b) Find $lim_{n\\rightarrow \\infty} P(X_n > 1.7n)$"
   ]
  },
  {
   "cell_type": "markdown",
   "metadata": {},
   "source": [
    "$S_n$ ~ $Bin(n, \\frac{2}{3})$\n",
    "\n",
    "$X_n = S_n + n$\n",
    "\n",
    "$=lim_{n\\rightarrow \\infty} P(S_n + n > 1.7n)$\n",
    "\n",
    "$=lim_{n\\rightarrow \\infty} P(S_n > 0.7n)$\n",
    "\n",
    "$=lim_{n\\rightarrow \\infty} P(\\frac{S_n}{n} > 0.7)$\n",
    "\n",
    "$=lim_{n\\rightarrow \\infty} P(\\frac{S_n}{n} - \\frac{2}{3} > 0.7 - \\frac{2}{3})$\n",
    "\n",
    "$ \\le lim_{n\\rightarrow \\infty} P(|\\frac{S_n}{n} - \\frac{2}{3}| > 0.7 - \\frac{2}{3}) = 0$"
   ]
  },
  {
   "cell_type": "code",
   "execution_count": null,
   "metadata": {},
   "outputs": [],
   "source": []
  }
 ],
 "metadata": {
  "kernelspec": {
   "display_name": "R",
   "language": "R",
   "name": "ir"
  },
  "language_info": {
   "codemirror_mode": "r",
   "file_extension": ".r",
   "mimetype": "text/x-r-source",
   "name": "R",
   "pygments_lexer": "r",
   "version": "3.6.1"
  }
 },
 "nbformat": 4,
 "nbformat_minor": 2
}
