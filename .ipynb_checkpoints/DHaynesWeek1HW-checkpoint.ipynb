{
 "cells": [
  {
   "cell_type": "markdown",
   "metadata": {},
   "source": [
    "Derek Haynes\n",
    "\n",
    "Intro Probability Theory"
   ]
  },
  {
   "cell_type": "markdown",
   "metadata": {},
   "source": [
    "### 1.1\n",
    "\n",
    "Given: We roll a fair die twice.  Describe a sample space $\\Omega\\$ and a probability measure P to model this experiment.  Let A be the event that the second roll is larger than the first.  Find the probability P(A) that the event A occurs."
   ]
  },
  {
   "cell_type": "markdown",
   "metadata": {},
   "source": [
    "Solution: \n",
    "\n",
    "$\\Omega = \\{(i,j): i,j \\in \\{1,2,3,4,5,6\\}\\}$  \n",
    "\n",
    "\n",
    "$\\frac{\\#A}{\\#\\Omega}$\n",
    "\n",
    "$\\#A = (1,2),(1,3),(1,4),(1,5),(1,6),(2,3),(2,4),(2,5),(2,6)\\\\\n",
    "    (3,4), (3,5), (3,6), (4,5), (4,6), (5,6)$\n",
    "    \n",
    "`There are 15 outcomes in A`\n",
    "\n",
    "$\\#\\Omega = 6^2 = 36$ total Possible Outcomes `This is ordered sampling`\n",
    "\n",
    "\n",
    "$P(A) = (j>i) = \\frac{15}{36} = \\frac{5}{12}$  "
   ]
  },
  {
   "cell_type": "markdown",
   "metadata": {},
   "source": [
    "### 1.3.a\n",
    "\n",
    "Given: You flip a coin and roll a die.  Describe the sample space in this experiement\n",
    "\n",
    "Solution:\n",
    "\n",
    "$\\Omega = \\{(i,j): i \\in \\{1,2\\}, j \\in \\{1,2,3,4,5,6\\} \\}$"
   ]
  },
  {
   "cell_type": "markdown",
   "metadata": {},
   "source": [
    "### 1.3.b \n",
    "\n",
    "Given: Now each of 10 people flips a coin and rolls a die.  Describe the sample space of this experiment: \n",
    "\n",
    "Solution:\n",
    "\n",
    "\n",
    "Total elements in the sample space\n",
    "\n",
    "\n",
    "$\\#\\Omega = 2^{10}\\cdot6^{10} = 6.191736422x10^{10}$"
   ]
  },
  {
   "cell_type": "markdown",
   "metadata": {},
   "source": [
    "### 1.4 \n",
    "\n",
    "Given: Every day a kindergarten class chooses randomley one of the 50 state flags to hang on the wall, without regard to previous choices.  We're interested in flags that are chose on monday, Tuesday, and Wednesday of the week. \n",
    "\n",
    "#### a) Describe a sample space $\\Omega$ and a probability measure $P$ to model this experiment\n",
    "\n",
    "Solution: \n",
    "\n",
    "$\\Omega = \\{(i,j,k):i,j,k \\in \\{1,2,3,4,5...50\\}\\} $\n",
    "\n",
    "$\\#\\Omega = 50^3 = 125000$\n",
    "\n",
    "$P(\\omega) = \\frac{1}{125000}$ \n",
    "\n",
    "\n",
    "#### b) What is the probability that the class hangs Wisconsin's flag on Monday, Michigan's flag on Tuesday, and California's flag on Wednesday. \n",
    "\n",
    "Solution: \n",
    "\n",
    "`This is sampling with replacement where order matters` \n",
    "\n",
    "`All outcomes are equally likely`\n",
    "\n",
    "$P(Wisconsin, Michigan, California) = 50^{-3} = \\frac{1}{125000}$\n",
    "\n",
    "#### c) What is the probability that Wisconsin's flag will be hung at least two of the three days?\n",
    "\n",
    "Solution:\n",
    "\n",
    "$P(Wisconsin, Wisconsin, Not Wisconsin) = \\frac{1}{50}\\cdot\\frac{1}{50}\\cdot\\frac{49}{50} = \\frac{49}{125000}$ "
   ]
  },
  {
   "cell_type": "markdown",
   "metadata": {},
   "source": [
    "### 1.6 \n",
    "\n",
    "Given: We have an urn with 3 green and 4 yellow balls. We choose 2 balls randomly without replacement.  Let A be the event that we have two different color balls in our sample. \n",
    "\n",
    "#### a) Describe a possible sample space with equally likely outcomes, and the event $A$ in your sample space\n",
    "\n",
    "Solution:  \n",
    "\n",
    "`This is Sampling without replacement and order is irrelevant`\n",
    "\n",
    "The sample space looks like $(G,Y),(Y,G), (G,G), (Y,Y)$\n",
    "\n",
    "Therefor Event A is $(G,Y), (Y,G)$\n",
    "\n",
    "#### b) \n",
    "\n",
    "$P((Y,G) or (G,Y)) = \\frac{\\binom{4}{1}\\binom{3}{1}}{7\\choose2} = \\frac{12}{21} = \\frac{4}{7}$\n",
    "\n",
    "$\\binom{4}{1} = \\frac{4!}{(4-1)!1!} = 4$\n",
    "\n",
    "$\\binom{3}{1} = \\frac{3!}{(3-1)!1!} = 3$\n",
    "\n",
    "$\\binom{7}{2} = \\frac{7!}{(7-2)!2!} = 21$"
   ]
  },
  {
   "cell_type": "code",
   "execution_count": null,
   "metadata": {},
   "outputs": [],
   "source": []
  },
  {
   "cell_type": "code",
   "execution_count": null,
   "metadata": {},
   "outputs": [],
   "source": [
    "\n",
    "\n"
   ]
  }
 ],
 "metadata": {
  "kernelspec": {
   "display_name": "R",
   "language": "R",
   "name": "ir"
  },
  "language_info": {
   "codemirror_mode": "r",
   "file_extension": ".r",
   "mimetype": "text/x-r-source",
   "name": "R",
   "pygments_lexer": "r",
   "version": "3.6.1"
  }
 },
 "nbformat": 4,
 "nbformat_minor": 2
}
