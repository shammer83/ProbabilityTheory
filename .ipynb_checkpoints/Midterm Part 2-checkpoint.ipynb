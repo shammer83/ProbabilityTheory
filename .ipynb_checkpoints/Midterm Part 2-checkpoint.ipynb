{
 "cells": [
  {
   "cell_type": "markdown",
   "metadata": {},
   "source": [
    "Derek Haynes\n",
    "\n",
    "Probability Theory\n",
    "\n",
    "Midterm Part II"
   ]
  },
  {
   "cell_type": "markdown",
   "metadata": {},
   "source": [
    "### Problem 1. \n",
    "\n",
    "Let $A$ and $B$ be independent events.  Denote by the events $A^c$ and $B^c$ are complements of the events $A$ and $B$.  Verify that the events $A$ and $B^c$ are independent.  \n",
    "\n"
   ]
  },
  {
   "cell_type": "markdown",
   "metadata": {},
   "source": [
    "Solution: \n",
    "\n",
    "`Knowing this identity:` $P(B) = P(A^cB) + P(AB)$ \n",
    "\n",
    "$P(AB^c) = P(A) - P(AB)$\n",
    "\n",
    "$= P(A)-P(B)P(A)$\n",
    "\n",
    "$=(1-P(B))P(A)$\n",
    "\n",
    "$=P(B^c)P(A)$\n",
    "     \n",
    "Which implies $A$ and $B^c$ are independent\n",
    "\n",
    "More over ...\n",
    "\n",
    "$P(A^cB^c) = 1- P(A\\cup B)$\n",
    "\n",
    "$= 1 - P(A) - P(B) + P(AB)$\n",
    "\n",
    "$ = 1 - P(A)-P(B) + P(A)P(B)$\n",
    "\n",
    "$ = (1- P(A))(1-P(B))$\n",
    "\n",
    "$ = P(A^c)P(B^c)$ \n",
    "\n",
    "which implies $A^c$ and $B^c$ are independent"
   ]
  },
  {
   "cell_type": "markdown",
   "metadata": {},
   "source": [
    "### Problem 2 \n",
    "\n",
    "Show that if X ~ Geom(p) then \n",
    "\n",
    "$P( X = n + k | X > n) = P( X = k)$ for $n$, $k \\ge 1$"
   ]
  },
  {
   "cell_type": "markdown",
   "metadata": {},
   "source": [
    "`Solution:`\n",
    "\n",
    "$P( X = n + k | X > n) = \\frac{P( X = n+k \\cap X > n)} {P(X > n)}$ \n",
    "\n",
    "$= \\frac{P(X = n+k)} {P(X > n)}$\n",
    "\n",
    "$= \\frac{(1-p)^{n+k-1}p}{(1-p)^n}$\n",
    "\n",
    "$ = (1-p)^{k-1}p$\n",
    "\n",
    "$ = P(X = k)$\n",
    "\n"
   ]
  },
  {
   "cell_type": "markdown",
   "metadata": {},
   "source": [
    "### Problem 3\n",
    "\n",
    "Given:  A stick of length (l) is broken at a uniformly chosen random location.  We denote the length of the smaller piece by X. \n",
    "\n",
    "A) Find the Cumulative distribution function of X. \n",
    "\n",
    "B) Find the probability density function of X. "
   ]
  },
  {
   "cell_type": "markdown",
   "metadata": {},
   "source": [
    "Solution A): \n",
    "\n",
    "Let $U$ be the breakpoint  $U$ ~ $[0, l]$\n",
    "\n",
    "$X$ is the length of the shorter piece.  $X = min\\{U, l-U\\}$\n",
    "\n",
    "$F(x) = P(x \\le X)$\n",
    "\n",
    "$=\\begin{cases} 0, & x \\le 0 \\\\\n",
    "P(U \\le x ) + P(U \\ge l-x), & 0< x < \\frac{l}{2}\\\\\n",
    "1, & x \\ge \\frac{1}{2}\n",
    "\\end {cases} $\n",
    "\n",
    "$=\\begin{cases} 0, & x \\le 0 \\\\\n",
    "\\frac{x}{l} + \\frac{l -(l-x)}{l}, & 0< x < \\frac{l}{2}\\\\\n",
    "1, & x \\ge \\frac{1}{2}\n",
    "\\end {cases} $\n",
    "\n",
    "$=\\begin{cases} 0, & x \\le 0 \\\\\n",
    "\\frac{2x}{l}, & 0< x < \\frac{l}{2}\\\\\n",
    "1, & x \\ge \\frac{1}{2}\n",
    "\\end {cases} $\n",
    "\n"
   ]
  },
  {
   "cell_type": "markdown",
   "metadata": {},
   "source": [
    "Solution B) \n",
    "\n",
    "$f(x) = \\frac{d}{dx}F(x)$\n",
    "\n",
    "$=\\begin{cases} \\frac{2}{l} & 0<x< \\frac{1}{2}\\\\\n",
    "0 & elsewhere\\end{cases}$"
   ]
  },
  {
   "cell_type": "markdown",
   "metadata": {},
   "source": [
    "### Problem 4 \n",
    "\n",
    "Let X be a continuous random variable with density function:\n",
    "\n",
    "$f_X(x) =\\begin{cases} \\frac{1}{2}x^{\\frac{-3}{2}}& 1 < x < \\infty \\\\\n",
    "0, &else. \\end{cases}$\n",
    "    \n",
    "\n",
    "`a)` Find $P(X > 10)$ \n",
    "    \n",
    " solution: \n",
    " \n",
    " $P(X < 10) = \\int_{1}^{10}\\frac{1}{2}x^{\\frac{-3}{2}}dx$\n",
    " \n",
    " $= \\frac{1}{2}\\int_{1}^{10}x^{\\frac{-3}{2}}dx$\n",
    " \n",
    " $ = (-\\frac{1}{\\sqrt{x}})|_{1}^{10}$\n",
    " \n",
    " $P( X < 10) = \\frac{-1}{\\sqrt{10}} + \\frac{1}{\\sqrt1} = 0.6837$\n",
    " \n",
    " $P(X > 10) = 1 - P(X <10) = 0.316227$\n",
    " \n",
    " `b)` Find the CDF for the density function \n",
    " \n",
    " \n",
    " \n",
    " $F(x) = \\begin{cases} - x^{\\frac{1}{2}}, & 1< x < \\infty\\\\\n",
    " 0, & else.\n",
    " \\end {cases}$\n",
    " \n",
    " \n",
    " \n",
    " `c)` Find $E[X]$  \n",
    " \n",
    " solution: \n",
    " \n",
    " $E[X] = \\int_{1}^{\\infty}x \\cdot \\frac{1}{2} x^{\\frac{-3}{2}}dx$\n",
    " \n",
    " $= \\frac{1}{2}\\int_{1}^{\\infty} x^{\\frac{-1}{2}}$\n",
    " \n",
    " $= [\\sqrt{x}]|_{1}^{\\infty}$\n",
    " \n",
    " $= \\infty - 1 $\n",
    " \n",
    " $ = \\infty$"
   ]
  },
  {
   "cell_type": "markdown",
   "metadata": {},
   "source": [
    "### Problem 5 \n",
    "\n",
    "Suppose that one person in 1,000 has a particular disease for which there is a fairly accurate diagnostic test.  This test is correct 99% of the time when give to a person select at random who is a sufferer; it is correct 98% of the time when given to a person selected at random who is a non-sufferer. \n",
    "\n",
    "Calculate the following probabilities\n",
    "\n",
    "a) that the given a positive result, the person is a suffer; \n",
    "\n",
    "b) that given a negative result, the person is a non-sufferer. \n",
    "\n"
   ]
  },
  {
   "cell_type": "markdown",
   "metadata": {},
   "source": [
    "Solution: \n",
    "\n",
    "First define:\n",
    "\n",
    "`True positive:`  Cases in which we predicted yes, they have the disease, and they do have the disease (this is a correct prediction) \n",
    "\n",
    "`True negtive:`  We predicted no, and they don't have the disease (this is a correct predition)\n",
    "\n",
    "`False positive:` We predicted they have the disease, and they don't (incorrect prediction)\n",
    "\n",
    "`False Negative:` We predicted they don't have the disease and they do (incorrect prediction) \n",
    "\n",
    "`part a) `\n",
    "\n",
    "Known:  \n",
    "\n",
    "$P(disease)$ = $P(D) = \\frac{1}{1000}$ \n",
    "\n",
    "$P(not~disease) = P(D^c) = \\frac{999}{1000}$\n",
    "\n",
    "$P(true ~ positive) = P(TP) = \\frac{99}{100}$\n",
    "\n",
    "$P(false~Positive) = P(FP) = \\frac{2}{100}$\n",
    "\n",
    "$P(disease | positive) = ?$  \n",
    "\n",
    "$P(D \\cap TP) = \\frac{1}{1000} \\cdot \\frac{99}{100} = \\frac{99}{100000}$\n",
    "\n",
    "$P(D^c \\cap FP) = \\frac{999}{1000} \\cdot \\frac{2}{100} = \\frac{1998}{100000}$\n",
    "\n",
    "$P(positive) = P(D^c \\cap FP) +  P(D \\cap TP) =  \\frac{1998}{100000} + \\frac{99}{100000} = \\frac{2097}{100000}$\n",
    "\n",
    "$P(disease | positive) = \\frac{P(disease \\cap TP)}{P(positive)} = \\frac{\\frac{99}{100000}}{\\frac{2097}{100000}} = 0.04721$\n",
    "\n",
    "`part b`\n",
    "\n",
    "$P(not~disease | negative) = ?$\n",
    "\n",
    "$P(False ~ Negative) = P(FN)  = \\frac{1}{100}$\n",
    "\n",
    "$P(True ~ Negative) = P(TN) = \\frac{98}{100}$\n",
    "\n",
    "$P(D \\cap FN) = \\frac{1}{1000} \\cdot \\frac{1}{100} = \\frac{1}{100000}$\n",
    "\n",
    "$P(D^c \\cap TN) = \\frac{999}{1000} \\cdot \\frac{98}{100} = \\frac{97902}{100000}$\n",
    "\n",
    "$P(negative) = \\frac{1}{100000} + \\frac{97902}{100000} = \\frac{97903}{100000}$\n",
    "\n",
    "$P(D^c | negative) = \\frac{P(D^c \\cap TN)}{P(negative)} = \\frac{\\frac{97902}{100000}}{\\frac{97903}{100000}} = 0.99999897$"
   ]
  },
  {
   "cell_type": "markdown",
   "metadata": {},
   "source": [
    "### Problem 6\n",
    "\n",
    "\n",
    "Let (X, Y) denote a uniformly random point inside the unit square \n",
    "\n",
    "$[0,1]^2 = [0,1] x [0,1] = \\{(x,y): 0 \\le x, y \\le 1\\}$.\n",
    "\n",
    "What is the probability $P(|X-Y| \\le \\frac{1}{4})$?"
   ]
  },
  {
   "cell_type": "markdown",
   "metadata": {},
   "source": [
    "Solution: \n",
    "\n",
    "$P(|X-Y| \\le \\frac{1}{4}) = P( \\frac{-1}{4} \\le X-Y \\le \\frac{1}{4})$\n",
    "\n",
    "$ = P(- X - \\frac{1}{4} \\le -Y  \\le \\frac{1}{4} -X)$\n",
    "\n",
    "$ = P( X + \\frac{1}{4} \\ge Y \\ge \\frac{-1}{4} + X)$  `shaded region must satisfy this inequality` \n",
    "\n",
    "\n",
    "$ = \\frac{area~satisfying~shaded~region}{total~area~square}$\n",
    "\n",
    "$= \\frac{1 - 2(\\frac{1}{2}\\cdot\\frac{3}{4}\\cdot\\frac{3}{4})}{1}$\n",
    "\n",
    "$= \\frac{7}{16}$"
   ]
  },
  {
   "cell_type": "markdown",
   "metadata": {},
   "source": [
    "Drawn area of the probability"
   ]
  },
  {
   "cell_type": "markdown",
   "metadata": {},
   "source": [
    "\n",
    "![Alt text](MidtermPart2.jpg)\n"
   ]
  },
  {
   "cell_type": "markdown",
   "metadata": {},
   "source": []
  },
  {
   "cell_type": "code",
   "execution_count": null,
   "metadata": {},
   "outputs": [],
   "source": []
  }
 ],
 "metadata": {
  "kernelspec": {
   "display_name": "R",
   "language": "R",
   "name": "ir"
  },
  "language_info": {
   "codemirror_mode": "r",
   "file_extension": ".r",
   "mimetype": "text/x-r-source",
   "name": "R",
   "pygments_lexer": "r",
   "version": "3.6.1"
  }
 },
 "nbformat": 4,
 "nbformat_minor": 2
}
