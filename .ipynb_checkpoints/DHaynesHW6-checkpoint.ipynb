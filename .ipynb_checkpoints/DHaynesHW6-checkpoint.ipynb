{
 "cells": [
  {
   "cell_type": "markdown",
   "metadata": {},
   "source": [
    "Derek Haynes\n",
    "\n",
    "Probability Theory \n",
    "\n",
    "Homework 6"
   ]
  },
  {
   "cell_type": "markdown",
   "metadata": {},
   "source": [
    "#### Exercise 3.5\n",
    "\n",
    "Given:\n",
    "\n",
    "Suppose that the discrete random variable $X$ has cumulative distribution function given by: \n",
    "\n",
    "$F(x) = \\begin{cases} 0,&x < 1 \\\\\n",
    "\\frac{1}{3}, & 1\\le x < \\frac{4}{3}\\\\\n",
    "\\frac{1}{2}, & \\frac{4}{3} \\le x < \\frac{3}{2}\\\\\n",
    "\\frac{3}{4}, & \\frac{3}{2} \\le x < \\frac{9}{5}\\\\\n",
    "1, &  x \\ge \\frac{9}{5}\n",
    "\\end{cases}$\n",
    "\n",
    "Find the possible values and the probability mass function of $X$"
   ]
  },
  {
   "cell_type": "markdown",
   "metadata": {},
   "source": [
    "Solution: \n",
    "\n",
    "$P(X = 1) =  \\frac{1}{3}\\\\\n",
    "P(X = \\frac{4}{3}) = \\frac{1}{6}\\\\\n",
    "P(X = \\frac{3}{2}) = \\frac{1}{4}\\\\\n",
    "P(X = \\frac{9}{5}) = \\frac{1}{4}$"
   ]
  },
  {
   "cell_type": "markdown",
   "metadata": {},
   "source": [
    "#### Exercise 3.7 \n",
    "\n",
    "Given: \n",
    "\n",
    "Suppose that the continuous random variable $X$ has a cumulative distribution function given by \n",
    "\n",
    "\n",
    "$F(x) = \\begin{cases} 0,&x < \\sqrt2 \\\\\n",
    "x^2-2, & \\sqrt2 \\le x < \\sqrt3\\\\\n",
    "1, & \\sqrt3 \\le x.\n",
    "\\end{cases}$"
   ]
  },
  {
   "cell_type": "markdown",
   "metadata": {},
   "source": [
    "a) Find the smallest interval $[a, b]$, such that of $P(a\\le X \\le b) = 1$\n",
    "\n",
    "Solution: \n",
    "\n",
    "The smallest intervale is $[\\sqrt2, \\sqrt3]$ since \n",
    "\n",
    "$F(\\sqrt2) = 0$ and $F(\\sqrt3) = 1$.\n",
    "\n",
    "\n"
   ]
  },
  {
   "cell_type": "markdown",
   "metadata": {},
   "source": [
    "b) Find $P(X = 1.6).$\n",
    "\n",
    "Solution: 0 since X is a continuous random variable.  \n",
    "\n",
    "`By fact 3.7 ... a random variable X has a density fucntion f, then point values have a probability of zero`"
   ]
  },
  {
   "cell_type": "markdown",
   "metadata": {},
   "source": [
    "c) Find $P(1 \\le X \\le \\frac{3}{2})$\n",
    "\n",
    "Solution: \n",
    "\n",
    "$P(1 \\le X \\le \\frac{3}{2}) = F(\\frac{3}{2}) - F(1)$\n",
    "\n",
    "$ = (\\frac{3}{2})^2 - 0 = \\frac{1}{4}$"
   ]
  },
  {
   "cell_type": "markdown",
   "metadata": {},
   "source": [
    "d) Find the probability density function of X \n",
    "\n",
    "\n",
    "$f(x) = \\begin{cases} 2x, & \\sqrt2 \\le x \\le \\sqrt3 \\\\\n",
    "0, & else\n",
    "\\end{cases}$"
   ]
  },
  {
   "cell_type": "markdown",
   "metadata": {},
   "source": [
    "#### Exercise 3.19\n",
    "\n",
    "Let $Z$ ~ $Bin(10, \\frac{1}{3})$. \n",
    "\n",
    "Find the value of its cumulative distribution function at 2 and at 8.\n",
    "\n"
   ]
  },
  {
   "cell_type": "markdown",
   "metadata": {},
   "source": [
    "$P(z = 0) = \\binom{10}{0}(1 - \\frac{1}{3})^10 = 0.01734$\n",
    "\n",
    "$P(z = 1) = \\binom{10}{1}(\\frac{1}{3})^1(\\frac{2}{3})^9 = 0.086$\n",
    "\n",
    "$P(z = 2) = \\binom{10}{2}(\\frac{1}{3})^2(\\frac{2}{3})^8 = 0.195$\n",
    "\n",
    "$P(z \\le 2) = P(0)+P(1)+P(2) = 0.29834$\n",
    "\n",
    "$P(z \\le 8) = 1 - [P(x = 9) + P(x = 10)]$\n",
    "\n",
    "$P(1 - [\\binom{10}{9}(\\frac{1}{3})^9(\\frac{2}{3}) + \\binom{10}{10}(\\frac{1}{3})^{10}]$\n",
    "\n",
    "$P(z \\le 8) = 0.99964$"
   ]
  },
  {
   "cell_type": "markdown",
   "metadata": {},
   "source": [
    "#### Exercise 3.32\n",
    "\n",
    "Given: \n",
    "\n",
    "Let $X$ be a continuous random variable with density function\n",
    "\n",
    "$f_X(x) = \\begin{cases}\\frac{1}{2}x^{\\frac{-3}{2}}, & 1 < x < \\infty \\\\\n",
    "0, & else\n",
    "\\end{cases}$\n",
    "\n",
    "a) Find $P(X > 10)$. \n",
    "\n",
    "Solution: \n",
    "\n",
    "$\\int_{10}^{\\infty} \\frac{1}{2} x^{\\frac{-3}{2}}dx$\n",
    "\n",
    "= $\\frac{1}{2} \\int_{10}^{\\infty}x^{\\frac{-3}{2}} dx$\n",
    "\n",
    "= $-X^{\\frac{-1}{2}} |_{10}^{\\infty}$\n",
    "\n",
    "= $-\\frac{1}{\\sqrt\\infty} + \\frac{1}{\\sqrt10}$\n",
    "\n",
    "= 0.3162276\n",
    "\n",
    "b) Find the cumulative distribution function Fx of X\n",
    "\n",
    "$F_X(x) = \\begin{cases} -x^{\\frac{-1}{2}}, & 1 < x < \\infty\\\\\n",
    "0, & else \n",
    "\\end{cases}$\n"
   ]
  },
  {
   "cell_type": "code",
   "execution_count": null,
   "metadata": {},
   "outputs": [],
   "source": []
  }
 ],
 "metadata": {
  "kernelspec": {
   "display_name": "R",
   "language": "R",
   "name": "ir"
  },
  "language_info": {
   "codemirror_mode": "r",
   "file_extension": ".r",
   "mimetype": "text/x-r-source",
   "name": "R",
   "pygments_lexer": "r",
   "version": "3.6.1"
  }
 },
 "nbformat": 4,
 "nbformat_minor": 2
}
