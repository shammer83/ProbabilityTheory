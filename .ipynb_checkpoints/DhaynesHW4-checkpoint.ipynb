{
 "cells": [
  {
   "cell_type": "markdown",
   "metadata": {},
   "source": [
    "Derek Haynes\n",
    "\n",
    "Homework week 4\n",
    "\n",
    "Probability Theory"
   ]
  },
  {
   "cell_type": "markdown",
   "metadata": {},
   "source": [
    "### 2.12\n",
    "\n",
    "We choose a number from the set {1,2,3,...,100}uniformly at random and denote this number by X. For each of the following choices decide whether the two events in question are independent or not. \n",
    "\n",
    "a) A = {X is even}, B = {X is divisible by 5} \n",
    "\n",
    "b) C = {X has two digits}, D = {X is divisible by 3}\n",
    "\n",
    "c) E = {X is a prime}, F = {X has a digit 5}. \n"
   ]
  },
  {
   "cell_type": "markdown",
   "metadata": {},
   "source": [
    "Solution: \n",
    "\n",
    "a) \n",
    "\n",
    "$P(A) = \\frac{50}{100}$  \n",
    "\n",
    "$B = \\{5, 10, 15, 20, 25, 30, 35, 40, 45, 50, 55, 60, 65, 70, 75, 80, 85, 90, 95, 100\\}$\n",
    "\n",
    "$P(B) = \\frac{20}{100}$\n",
    "\n",
    "$A \\cap B = \\{10, 20, 30, 40, 50, 60, 70, 80, 90, 100\\}$\n",
    "\n",
    "$P(AB) = \\frac{10}{100} = \\frac{1}{10} = \\frac{50}{100} \\cdot \\frac{20}{100} = P(A)\\cdot P(B) = \\frac{1}{10}$\n",
    "\n",
    "`events A and B are independent`\n",
    "\n",
    "b) \n",
    "\n",
    "$C = \\{10, 11, 12, ..., \\}$\n",
    "\n",
    "$ \\#C = 90$\n",
    "\n",
    "$D = \\{ 3, 6, 9, 12, ..., 99\\}$\n",
    "\n",
    "$ \\#D = 33$\n",
    "\n",
    "$P(C) = \\frac{9}{10}$\n",
    "\n",
    "$P(D) = \\frac{33}{100}$\n",
    "\n",
    "$C\\cap D = \\{12, 15, 18, ... 99\\} $ \n",
    "\n",
    "$\\# CD = 30$\n",
    "\n",
    "$P(CD) = \\frac{3}{10} \\neq \\frac{9}{10} \\cdot \\frac{33}{100} = P(C) \n",
    "\\cdot P(D) = 0.297$\n",
    "\n",
    "`C and D are not independent events`\n",
    "\n",
    "c) \n",
    "\n",
    "$E = \\{2, 3, 5, 7, 11, 13, ...97\\}$\n",
    "\n",
    "$ \\# E = 28 $\n",
    "\n",
    "$F = \\{5, 15, 25, 35, 45, 50, ..., 95 \\} $\n",
    "\n",
    "$ \\# F = 19$\n",
    "\n",
    "$E \\cap F = \\{ 53, 59\\}$\n",
    "\n",
    "$P(EF) = \\frac{2}{100} \\neq \\frac{28}{100} \\cdot \\frac{19}{100} = \\frac{532}{1000} = P(E) \\cdot P(F)$\n",
    "\n",
    "`E and F are not independent`"
   ]
  },
  {
   "cell_type": "markdown",
   "metadata": {},
   "source": [
    "### 2.15\n",
    "\n",
    "Given: \n",
    "\n",
    "Every morning Ramona misses her bus with probabily $\\frac{1}{10}$, independently of other mornings.  What is the probability that next week she catches her bus on Monday, Tuesday, and Thursday, but misses her bus on Wednesday and Friday? \n"
   ]
  },
  {
   "cell_type": "markdown",
   "metadata": {},
   "source": [
    "Solution: \n",
    "\n",
    "$p = \\frac{9}{10}$\n",
    "\n",
    "`By definition 2.31 of a Bernoulli distribution`\n",
    "\n",
    "$P(1,1,0,1,0) = p^3(1-p)^{5-3} = (0.90)^3(1-0.90)^2 = 0.00729$ "
   ]
  },
  {
   "cell_type": "markdown",
   "metadata": {},
   "source": [
    "### 2.17\n",
    "\n",
    "Given: Suppose that the events A, B, and C are mutually independent with P(A) =$\\frac{1}{2}$, $P(B) = \\frac{1}{3}$ and $P(C) = \\frac{1}{4}.$  Compute $P(AB\\cup C)$."
   ]
  },
  {
   "cell_type": "markdown",
   "metadata": {},
   "source": [
    "Solution:\n",
    "\n",
    "$P(AB) = P(A) \\cdot P(B)$ given that A & B are independent\n",
    "\n",
    "$P(AB) = \\frac{1}{2}\\cdot \\frac{1}{3} = \\frac{1}{6}$\n",
    "\n",
    "$P(C) = \\frac{1}{4}$\n",
    "\n",
    "Therefore: \n",
    "\n",
    "$P(AB \\cup C) = P(A)P(B) + (P(C) - P(AB))$\n",
    "\n",
    "$= \\frac{1}{2} \\cdot \\frac{1}{3} + (\\frac{1}{4} - \\frac{1}{6})$\n",
    "\n",
    "$= \\frac{3}{8}$"
   ]
  },
  {
   "cell_type": "markdown",
   "metadata": {},
   "source": [
    "### 2.22\n",
    "\n",
    "Given:  Ann and Bill play rock-paper-scissors.  Each has a strategy of choosing uniformly at random out of the three possibilities every round. (independently of the other player and the previous choices). \n",
    "\n",
    "a) What is the probability that Ann wins the first round?  \n",
    "\n",
    "b) What is the probability that Ann's first win happens in the fourth round?\n",
    "\n",
    "c) What is the probability that Ann's first win comes after the fourth round?\n",
    "\n",
    "Solution: \n",
    "\n",
    "$p = \\frac{1}{3}$\n",
    "\n",
    "a)\n",
    "`By Definition 2.31 of the Bernoulli distribution`\n",
    "\n",
    "$P(X_1 = 1) =  (\\frac{1}{3})^1(\\frac{2}{3})^0 = \\frac{1}{3}$\n",
    "\n",
    "b)\n",
    "`By Definition 2.31 of the Bernoulli distribution`\n",
    "\n",
    "$P{(0,0,0,1)} = (1-p)^{k-1}p = (\\frac{2}{3})^3(\\frac{1}{3}) = \\frac{8}{81}$\n",
    "\n",
    "c) \n",
    "`By Definition 2.34 of the Geometric distribution`\n",
    "\n",
    "$P(N > 4) = \\Sigma_{k=5}^{\\infty}(\\frac{2}{3})^{5-1}(\\frac{1}{3})$\n",
    "\n",
    "$= \\frac{1}{3}(\\frac{2}{3})^{4}\\Sigma_{j=0}^{\\infty}(\\frac{2}{3})^{j}$\n",
    "\n",
    "$ = \\frac{\\frac{1}{3}(\\frac{2}{3})^{4}}{1-\\frac{2}{3}}$\n",
    "\n",
    "$ = (\\frac{2}{3})^4 = \\frac{16}{81}$\n"
   ]
  },
  {
   "cell_type": "markdown",
   "metadata": {},
   "source": [
    "### 2.23\n",
    "\n",
    "Given:  The probability that there is no accident at a certain busy intersection is 95% on any given day, independently of the other days.  \n",
    "\n",
    "a) Find the probability that there will be no accidents at this intersection during the next 7 days.\n",
    "\n",
    "b) Find the probability that next September there will be exactly 2 days with accidents. \n",
    "\n",
    "c) Today was accident free. Find the probability that there is no accident during the next 4 days, but there is at least one by the end of the 10th day. "
   ]
  },
  {
   "cell_type": "markdown",
   "metadata": {},
   "source": [
    "Solution: \n",
    "\n",
    "a) Variable $X$ has a bournulli distributution with success probability of $p = 0.95$.  \n",
    "\n",
    "X ~ Ber(p)\n",
    "\n",
    "$P(X_1 = 0, X_2 = 0, X_3 = 0, X_4 = 0 , X_5 = 0, X_6 = 0, X_7 = 0) = p^7(1-p)^0 = 0.6983$ \n",
    "\n",
    "b) $P(X = 2) = \\binom{30}{2}(0.95)^{28}(1-0.95)^{2} = 0.25863$\n",
    "\n",
    "c) $P(X = 4) = (0.95)^4(1-(0.95)^6)  = 0.2158$ "
   ]
  },
  {
   "cell_type": "code",
   "execution_count": null,
   "metadata": {},
   "outputs": [],
   "source": []
  }
 ],
 "metadata": {
  "kernelspec": {
   "display_name": "R",
   "language": "R",
   "name": "ir"
  },
  "language_info": {
   "codemirror_mode": "r",
   "file_extension": ".r",
   "mimetype": "text/x-r-source",
   "name": "R",
   "pygments_lexer": "r",
   "version": "3.6.1"
  }
 },
 "nbformat": 4,
 "nbformat_minor": 2
}
