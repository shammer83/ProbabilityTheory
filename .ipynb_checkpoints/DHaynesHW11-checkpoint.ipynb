{
 "cells": [
  {
   "cell_type": "markdown",
   "metadata": {},
   "source": [
    "## Section 6.1 \n",
    "\n",
    "### 6.2\n",
    "\n",
    "Given: \n",
    "\n",
    "The joint probability mass function of the random variables $( X , Y )$ is given by the following table:\n"
   ]
  },
  {
   "cell_type": "markdown",
   "metadata": {},
   "source": [
    "![table 6.2](6.2.png)"
   ]
  },
  {
   "cell_type": "markdown",
   "metadata": {},
   "source": [
    "\n",
    "(a) Find the marginal probability mass functions of X and Y.\n",
    "\n",
    "(b) Calculate the probability $P( X + Y^2 ≤ 2 )$ ."
   ]
  },
  {
   "cell_type": "markdown",
   "metadata": {},
   "source": [
    "Solution: \n",
    "\n",
    "(a)\n",
    "\n",
    "$p_x(1) = \\frac{1}{15} + \\frac{1}{15} + \\frac{2}{15} + \\frac{1}{15} = \\frac{5}{15}$\n",
    "\n",
    "$p_x(2) = \\frac{1}{10} + \\frac{1}{10} + \\frac{1}{5} + \\frac{1}{10} = \\frac{1}{2}$\n",
    "\n",
    "$p_x(3) = \\frac{1}{30} + \\frac{1}{30} + 0 + \\frac{1}{10} = \\frac{5}{30}$\n",
    "\n",
    "$p_y(0) = \\frac{1}{15} + \\frac{1}{10} + \\frac{1}{30} = \\frac{6}{30}$\n",
    "\n",
    "$p_y(1) = \\frac{1}{15} + \\frac{1}{10} + \\frac{1}{30} = \\frac{6}{30}$\n",
    "\n",
    "$p_y(2) = \\frac{2}{15} + \\frac{1}{5} + 0 = \\frac{5}{15}$\n",
    "\n",
    "$p_y(3) = \\frac{1}{15} + \\frac{1}{10} + \\frac{1}{10} = \\frac{8}{30}$"
   ]
  },
  {
   "cell_type": "markdown",
   "metadata": {},
   "source": [
    "(b)\n",
    "\n",
    "$P(X + Y^2 \\le 2) = P(X + Y^2 = 0) + P(X + Y^2 = 1) + P(X + Y^2 = 2)$\n",
    "\n",
    "$P(X = 1 , Y =0) = P(x + y^2 = 1 + 0^2 = 1) = \\frac{1}{15}$\n",
    "\n",
    "$P(X = 1 , Y =1) = P(x + y^2 = 1 + 1^2 = 2) = \\frac{1}{15}$\n",
    "\n",
    "$P(X = 2 , Y =0) = P(x + y^2 = 2 + 0^2 = 2) = \\frac{1}{10}$\n",
    "\n",
    "$P(X = 1 , Y =0) = P(x + y^2 = 1 + 0^2 = 1) = \\frac{1}{15}$\n",
    "\n",
    "Therefore ...\n",
    "\n",
    "$P(X + Y^2 \\le 2) \\frac{1}{15} + \\frac{1}{15} + \\frac{1}{10} = \\frac{7}{30}$\n",
    "\n"
   ]
  },
  {
   "cell_type": "markdown",
   "metadata": {},
   "source": [
    "### 6.3\n",
    "\n"
   ]
  },
  {
   "cell_type": "markdown",
   "metadata": {},
   "source": [
    "Given: \n",
    "\n",
    "For each lecture, the professor chooses between white, yellow, and purple chalk, independently of previous choices. Each day she chooses white chalk with probability 0.5, yellow chalk with probability 0.4, and the purple chalk with probability 0.1.\n",
    "\n",
    "(a) What is the probability that over the next 10 days she will choose white chalk 5 times, yellow chalk 4 times,  and purple chalk 1 time?\n",
    "\n",
    "(b) What is the probability that over the next 10 days she will choose white chalk exactly 9 times?\n",
    "\n"
   ]
  },
  {
   "cell_type": "markdown",
   "metadata": {},
   "source": [
    "Solution (a): \n",
    "\n",
    "$n = 10$\n",
    "\n",
    "$r = 3$\n",
    "\n",
    "$X_w =$  white chalk\n",
    "\n",
    "$X_y =$ yellow chalk\n",
    "\n",
    "$X_p =$ purple chalk\n",
    "\n",
    "$P( X_w = 5, X_y = 4, X_p = 1)$ ~ $Multi(10, 3, \\frac{1}{2}, \\frac{2}{5}, \\frac{1}{10})$\n",
    "\n",
    "$ = \\binom{10}{5,4,1} (\\frac{1}{2})^5(\\frac{2}{5})^4(\\frac{1}{10})^1$\n",
    "\n",
    "$ = \\frac{10!}{5!4!1!} (\\frac{1}{2})^5(\\frac{2}{5})^4(\\frac{1}{10})^1$\n",
    "\n",
    "$ = 0.1008$\n"
   ]
  },
  {
   "cell_type": "markdown",
   "metadata": {},
   "source": [
    "Solution (b): \n",
    "\n",
    "$n = 10$\n",
    "\n",
    "$r = 2$\n",
    "\n",
    "$X = $  white chalk\n",
    "\n",
    "$Y = $ not white chalk\n",
    "\n",
    "$P( X = 9, Y = 1)$ ~ $Multi(10, 2, \\frac{1}{2}, \\frac{1}{2})$\n",
    "\n",
    "$ = \\binom{10}{9,1} (\\frac{1}{2})^9(\\frac{1}{2})^1$\n",
    "\n",
    "$ = \\frac{10!}{9!1!} (\\frac{1}{2})^9(\\frac{1}{2})^1$\n",
    "\n",
    "$ = 0.00976$\n"
   ]
  },
  {
   "cell_type": "markdown",
   "metadata": {},
   "source": [
    "### 6.26\n",
    "\n",
    "Given: \n",
    "\n",
    "Consider two urns, urn A and urn B. In urn A, there are 3 balls numbered 0, 1, 2. In urn B there are 6 balls numbered 1, 2, 3, 4, 5, 6. A ball is drawn from urn A, then a ball is drawn from urn B. Define  $X_A$ as the number of the ball from urn A and $X_B$ the number of the ball drawn from urn B.\n",
    "\n",
    "(a) What is the joint distribution of  $(X_A , X_B )$ ?\n",
    "\n",
    "(b) Let $Y_1=X_AX_B$ and $Y_2=\\max\\left\\{X_A,\\:X_B\\right\\}$. Find the joint distribution of $\\left(Y_1,\\:Y_2\\right)$.\n",
    "\n",
    "(Hint: Make a table)\n",
    "\n",
    "(c) Find the marginal distribution of $Y_1$ and $Y_2$  "
   ]
  },
  {
   "cell_type": "markdown",
   "metadata": {},
   "source": [
    "Solution (a):\n",
    "\n",
    "The joint probability of \n",
    "\n",
    "$p_{X_A,X_B} = (\\frac{1}{3})(\\frac{1}{6}) = \\frac{1}{18}$ \n",
    "\n",
    "as long as ...\n",
    "\n",
    "if $1 \\le k_1 \\le 3$  and $1 \\le k_2 \\le 6 $"
   ]
  },
  {
   "cell_type": "markdown",
   "metadata": {},
   "source": [
    "Solution (b):"
   ]
  },
  {
   "cell_type": "markdown",
   "metadata": {},
   "source": [
    "![A test image](6_26.png)"
   ]
  },
  {
   "cell_type": "markdown",
   "metadata": {},
   "source": [
    "Solution (c): \n",
    "\n",
    "$P(Y_1 = 0) = \\frac{1}{3}$ \n",
    "\n",
    "$P(Y_1 = 1) = \\frac{1}{18}$ \n",
    "\n",
    "$P(Y_1 = 2) = \\frac{1}{9}$ \n",
    "\n",
    "$P(Y_1 = 3) = \\frac{1}{18}$\n",
    "\n",
    "$P(Y_1 = 4) = \\frac{1}{9}$ \n",
    "\n",
    "$P(Y_1 = 5) = \\frac{1}{18}$ \n",
    "\n",
    "$P(Y_1 = 6) = \\frac{1}{9}$ \n",
    "\n",
    "$P(Y_1 = 8) = \\frac{1}{18}$ \n",
    "\n",
    "$P(Y_1 = 10) = \\frac{1}{18}$ \n",
    "\n",
    "$P(Y_1 = 12) = \\frac{1}{18}$ \n",
    "\n",
    "\n",
    "$P(Y_2 = 1) = \\frac{1}{9}$ \n",
    "\n",
    "$P(Y_2 = 2) = \\frac{4}{18}$ \n",
    "\n",
    "$P(Y_2 = 3) = \\frac{3}{18}$ \n",
    "\n",
    "$P(Y_2 = 4) = \\frac{3}{18}$ \n",
    "\n",
    "$P(Y_2 = 5) = \\frac{3}{18}$ \n",
    "\n",
    "$P(Y_2 = 6) = \\frac{3}{18}$ "
   ]
  },
  {
   "cell_type": "code",
   "execution_count": null,
   "metadata": {},
   "outputs": [],
   "source": []
  }
 ],
 "metadata": {
  "kernelspec": {
   "display_name": "R",
   "language": "R",
   "name": "ir"
  },
  "language_info": {
   "codemirror_mode": "r",
   "file_extension": ".r",
   "mimetype": "text/x-r-source",
   "name": "R",
   "pygments_lexer": "r",
   "version": "3.6.1"
  }
 },
 "nbformat": 4,
 "nbformat_minor": 2
}
