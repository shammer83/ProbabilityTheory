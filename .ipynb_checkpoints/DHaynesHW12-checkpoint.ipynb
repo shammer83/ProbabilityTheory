{
 "cells": [
  {
   "cell_type": "raw",
   "metadata": {},
   "source": [
    "Derek Haynes\n",
    "\n",
    "Probability Theory\n",
    "\n",
    "HW #12"
   ]
  },
  {
   "cell_type": "markdown",
   "metadata": {},
   "source": [
    "### Section 7.1\n",
    "\n",
    "#### Exercise 7.4\n",
    "\n",
    "Given: Suppose that X and Y are independent exponential random variables with parameters $\\lambda\\ne\\mu$. Find the density functions of X+Y.\n",
    "\n"
   ]
  },
  {
   "cell_type": "markdown",
   "metadata": {},
   "source": [
    "Solution: \n",
    "\n",
    "$f_{x+y} = \\int_{-\\infty}^\\infty f_X(x)f_Y(z-x)dx = \\int_{0}^z f_X(x)f_Y(z-x)dx$\n",
    "\n",
    "$=\\int_{0}^z \\lambda e^{-\\lambda x}\\mu e^{-\\mu(z-x)}$\n",
    "\n",
    "$=\\lambda \\mu \\int_{0}^ze^{-\\lambda x}e^{-\\mu(z-x)}$\n",
    "\n",
    "$=\\lambda \\mu \\int_{0}^z e^{-\\lambda x - \\mu z +\\mu x}dx$\n",
    "\n",
    "$=\\lambda \\mu e^{- \\mu z} \\int_{0}^z e^{-\\lambda x  +\\mu x}dx$\n",
    "\n",
    "$=\\lambda \\mu e^{- \\mu z} \\int_{0}^z e^{(-\\lambda   +\\mu)x }dx$\n",
    "\n",
    "`using u substitution`\n",
    "\n",
    "$=\\lambda \\mu e^{- \\mu z}$ $\\left[\\frac{e^{(-\\lambda+\\mu)x}}{-\\lambda + \\mu}\\right]_0^z$\n",
    "\n",
    "\n",
    "$=\\lambda \\mu e^{- \\mu z}$ $(\\left[\\frac{e^{(-\\lambda+\\mu)z}}{-\\lambda + \\mu}\\right] - \\left[\\frac{e^{0}}{-\\lambda + \\mu}\\right])$\n",
    "\n",
    "$=\\frac{\\lambda \\mu e^{- \\mu z}}{-\\lambda + \\mu}$ $\\left[{e^{(-\\lambda+\\mu)z}}-1\\right]$\n"
   ]
  },
  {
   "cell_type": "markdown",
   "metadata": {},
   "source": [
    "#### Exercise 7.16 \n",
    "\n",
    "Given Let X be a Poisson random variable with parameter $\\lambda$ and Y an independent Bernoulli random variable with parameter $p$. Find the probability mass function of X+Y."
   ]
  },
  {
   "cell_type": "markdown",
   "metadata": {},
   "source": [
    "Solution: \n",
    "\n",
    "$X$ ~ $Poisson(\\lambda) = e^{-\\lambda}\\frac{\\lambda^k}{k!}$\n",
    "\n",
    "$Y$ ~ $Ber(p)$  $P(Y = 1) = p$ and $P(Y = 0) = (1-p)$\n"
   ]
  },
  {
   "cell_type": "markdown",
   "metadata": {},
   "source": [
    "$P_{X+Y}(n) = \\Sigma_{k =0}^\\infty P_X(k)P_y(n-k)$\n",
    "\n",
    "Where \n",
    "\n",
    "$P_Y(n-k)$ is $p$ if $n-k = 1 \\rightarrow k = n-1$ \n",
    "\n",
    "or \n",
    "\n",
    "$1-p$ if $n-k = 0 \\rightarrow k=n$\n",
    "\n",
    "Therefore ... \n",
    "\n",
    "$P_{X+Y}(n) = P_X(n-1)\\cdot p + P_x(n)\\cdot (1-p)  + 0$\n",
    "\n",
    "\n",
    "$= e^{-\\lambda}\\frac{\\lambda^{n-1}}{(n-1)!}p + e^{-\\lambda}\\frac{\\lambda^{n}}{(n)!}(1-p) $"
   ]
  },
  {
   "cell_type": "markdown",
   "metadata": {},
   "source": [
    "### 7.18 \n",
    "\n",
    "Suppose that X and Y are independent random variables with density functions\n",
    "\n",
    "$f_X(x) = \\begin{cases} 2e^{-2x}, x \\ge 0 \\\\0, x < 0 \\end{cases}$\n",
    "\n",
    "$f_Y(x) = \\begin{cases} 4xe^{-2x}, x \\ge 0 \\\\0, x < 0 \\end{cases}$\n",
    "\n",
    "Find the density function of X + Y "
   ]
  },
  {
   "cell_type": "markdown",
   "metadata": {},
   "source": [
    "Solution: \n",
    "\n",
    "$z = x+y$ \n",
    "\n",
    "where  ...\n",
    "\n",
    "$f_Z(z) = \\int_{-\\infty}^\\infty f_X(x)f_Y(z -x) dx = \\int_0^z f_X(x)f_Y(z-x)dx$\n",
    "\n",
    "$= \\int_0^z 2e^{-2x}4(z-x)e^{-2(z-x)}dx$"
   ]
  },
  {
   "cell_type": "markdown",
   "metadata": {},
   "source": [
    "$=8\\int_0^z (z-x)e^{-2z}dx$\n",
    "\n",
    "$=8\\left[\\frac{x^2}{2}e^{-2z}\\right]_0^z$\n",
    "\n",
    "$=8e^{-2z}\\int_0^z (z-x)dx$\n",
    "\n",
    "$= 8e^{-2z}(xz-\\frac{x^2}{2})$"
   ]
  },
  {
   "cell_type": "markdown",
   "metadata": {},
   "source": [
    "### 7.21\n",
    "\n",
    "Let X and Y be independent normal random variables with distributions $X \\sim N(6, 3)$ and $Y \\sim N(-2, 2)$.\n",
    "Let W=3X+4Y.\n",
    "\n",
    "(a) Identify the distribution of W.\n",
    "\n",
    "(b) Find the probability P(W > 15)."
   ]
  },
  {
   "cell_type": "markdown",
   "metadata": {},
   "source": [
    "solution a):\n",
    "\n",
    "$X + Y \\sim  N(\\mu_1^2 + \\mu_2^2, \\sigma_{1}^2 + \\sigma_{2}^2)$ `sum of independent normals`\n",
    "\n",
    "Therefore ...\n",
    "\n",
    "$ W = 3X + Y  \\sim N((3\\cdot6)+(4\\cdot-2), (3)^2\\cdot3 + (4)^2\\cdot 2) = N(10,59)$\n"
   ]
  },
  {
   "cell_type": "markdown",
   "metadata": {},
   "source": [
    "solution b): \n",
    "\n",
    "$P( W > 15) = P(\\frac{W - E[W]}{\\sqrt{Var(W)}} > \\frac{15 -10}{\\sqrt{59}})$\n",
    "\n",
    "= $P(Z > 0.65)$\n",
    "\n",
    "$ = 1 - P(Z < 0.65)$\n",
    "\n",
    "$ = 1 - \\Phi(0.65)$\n",
    "\n",
    "$ = 1 - 0.7422$ \n",
    "\n",
    "$ = 0.2578$"
   ]
  },
  {
   "cell_type": "markdown",
   "metadata": {},
   "source": [
    "### Section 7.2\n",
    "\n",
    "#### 7.6 \n",
    "\n",
    "We deal 5 cards from a standard deck of 52, one by one. What is the probability that the third is a king, and the fifth is the ace of spades?"
   ]
  },
  {
   "cell_type": "markdown",
   "metadata": {},
   "source": [
    "Solution:\n",
    "\n",
    "`sampling without replacement`\n",
    "\n",
    "$P(X_3 = king, X_5 = ace of spades)$\n",
    "\n",
    "$= P(X_1 = king, X_2 = ace of spades)  = \\frac{4 \\cdot 1}{52\\cdot 51} = \\frac{4}{2652}$"
   ]
  },
  {
   "cell_type": "markdown",
   "metadata": {},
   "source": [
    "#### 7.8 \n",
    "\n",
    "An urn contains 7 red balls, 6 green balls, and 9 yellow balls.  Ten balls are chones without replacement.  What is the probabiltiy that the 3rd ball chosen was green, given the the 5th ball chosen was yellow.  "
   ]
  },
  {
   "cell_type": "markdown",
   "metadata": {},
   "source": [
    "$P(X_3 = Green | X_5 = Yellow) $\n",
    "\n",
    "$=P(X_2 = Green | X_1 = Yellow) $\n",
    "\n",
    "$ = \\frac{P(X_1 = Yellow \\cap X_2 = Green)} {P(X_1 = Yellow)}$\n",
    "\n",
    "$ = \\frac{\\frac{6}{21}\\cdot\\frac{9}{22}}{\\frac{9}{22}}$\n",
    "\n",
    "$ = \\frac{6}{21}$"
   ]
  },
  {
   "cell_type": "markdown",
   "metadata": {},
   "source": [
    "### 7.29 \n",
    "\n",
    "Let $X_1 , X_2 , ⋯ , X_{100}$ be independent standard normal random variables. Find the probability that $X_ {20}$ is the 50th largest number among these 100 numbers."
   ]
  },
  {
   "cell_type": "markdown",
   "metadata": {},
   "source": [
    "Solution: \n",
    "\n",
    "The probability that $X_1$ and $X_{20}$ are the 50th largest are the same because they are (i.i.d), therefore the probability that $X_{20}$ is the 50th largest is equal to $\\frac{1}{n}$ or $\\frac{1}{100}$"
   ]
  },
  {
   "cell_type": "code",
   "execution_count": null,
   "metadata": {},
   "outputs": [],
   "source": []
  }
 ],
 "metadata": {
  "kernelspec": {
   "display_name": "R",
   "language": "R",
   "name": "ir"
  },
  "language_info": {
   "codemirror_mode": "r",
   "file_extension": ".r",
   "mimetype": "text/x-r-source",
   "name": "R",
   "pygments_lexer": "r",
   "version": "3.6.1"
  }
 },
 "nbformat": 4,
 "nbformat_minor": 2
}
