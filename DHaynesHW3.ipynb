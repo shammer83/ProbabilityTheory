{
 "cells": [
  {
   "cell_type": "markdown",
   "metadata": {},
   "source": [
    "Derek Haynes\n",
    "\n",
    "Probability Theory\n",
    "\n",
    "HW #3 "
   ]
  },
  {
   "cell_type": "markdown",
   "metadata": {},
   "source": [
    "### 2.1\n",
    "\n",
    "Given: \n",
    "\n",
    "We roll two dice. Find the conditional probability that at least one of the number is even, given that the sum is 8. \n",
    "\n",
    "Solution: \n",
    "\n",
    "Order matters in the event space. \n",
    "\n",
    "A = {One number is even} = {2,4,6}\n",
    "\n",
    "B = {Sum is 8} = {(2,6), (6,2), (4,4), (3,5), (5,3)}\n",
    "\n",
    "$\\Omega = 6^2 = 36$\n",
    "\n",
    "$P(B) = \\frac{\\#B}{\\#\\Omega} = \\frac{5}{36}$ \n",
    "\n",
    "$P(A\\cap B) = \\frac{3}{36}$\n",
    "\n",
    "\n",
    "`Answer`\n",
    "\n",
    "$P(A|B) = \\frac{\\frac{3}{36}}{\\frac{5}{36}} = \\frac{3}{5}$\n",
    "\n"
   ]
  },
  {
   "cell_type": "markdown",
   "metadata": {},
   "source": [
    "### 2.4\n",
    "\n",
    "Given: We have two urns.  The first urn contains two balls labeled 1 and 2.  The second urn contains three balls labeled 3, 4, 5.  We choose one of the urns at random (with equal probability) and then sample one ball (uniformly at random)from the chosen urn.  What is the probability that we picked the ball labeled 5?\n",
    "\n",
    "Solution: \n",
    "\n",
    "P(pick ball 5) = $\\frac{1}{2} \\cdot \\frac{1}{3} = \\frac{1}{6}$"
   ]
  },
  {
   "cell_type": "markdown",
   "metadata": {},
   "source": [
    "![alt text here](2.4image.jpg)"
   ]
  },
  {
   "cell_type": "markdown",
   "metadata": {},
   "source": [
    "### 2.7 \n",
    "\n",
    "A) Use the definition of conditional probability and the additivity of probability to show that:\n",
    "\n",
    "$P(A^c|B) = 1 - P(A|B)$\n",
    "\n",
    "B) Suppose that $P(A|B) = 0.6 and P(B) = 0.5$, Find $P(A^cB) = P(A^c \\cap B)$\n",
    "\n",
    "\n",
    "Solution: \n",
    "\n",
    "`Part A`\n",
    "\n",
    "$P(A^c | B) = \\frac{P(A^c \\cap B)}{P(B)}$   `Note:` $P(A^c \\cap B) = P(B) - P(A\\cap B)$\n",
    "\n",
    "= $\\frac{P(B) - P(A\\cap B)}{P(B)}$\n",
    "\n",
    "`Answer`\n",
    "\n",
    "= $1 - \\frac {P(A \\cap B)}{P(B)} = 1 - P(A|B)$\n"
   ]
  },
  {
   "cell_type": "markdown",
   "metadata": {},
   "source": [
    "`Part B`\n",
    "\n",
    "$P(A|B) = \\frac{P(A \\cap B)}{P(B)}$ \n",
    "\n",
    "$P(B)P(A|B) = P(A \\cap B) = 0.5 x 0.6 = 0.3$\n",
    "\n",
    "`Answer`\n",
    "\n",
    "$P(A^c \\cap B) = P(B) - P(A \\cap B) = 0.5 - 0.3 = 0.2$ \n"
   ]
  },
  {
   "cell_type": "markdown",
   "metadata": {},
   "source": [
    "### 2.10 \n",
    "\n",
    "Given: I have a bag with 3 fair dice.  One is 4 sided, one is 6 sided, and one is 12 sided.  I reach into the bag, pick one die at random and roll it.  The outcome of the roll is 4.  What is the probability that I pulled out the 6 sided die?"
   ]
  },
  {
   "cell_type": "markdown",
   "metadata": {},
   "source": [
    "Solution: \n",
    "\n",
    "$P(4-sided \\cap \\#4) = \\frac{1}{3} \\cdot \\frac{1}{4} = \\frac{1}{12}$\n",
    "\n",
    "$P(6-sided \\cap \\#4) = \\frac{1}{3} \\cdot \\frac{1}{6} = \\frac{1}{18} $\n",
    "\n",
    "$P(12-sided \\cap \\#4) = \\frac{1}{3} \\cdot \\frac{1}{12} =\\frac{1}{36} $\n",
    "\n",
    "$P(\\#4) = P(4-sided \\cap \\#4) + P(6-sided \\cap \\#4) + P(12-sided \\cap \\#4) = \\frac{1}{6}$\n",
    "\n",
    "`Answer`\n",
    "\n",
    "$P(6-sided | \\#4) = \\frac{P(6-sided \\cap \\#4) }{P(\\#4)} = \\frac{1}{3}$"
   ]
  },
  {
   "cell_type": "markdown",
   "metadata": {},
   "source": [
    "![alt text here](2.11.jpg)"
   ]
  },
  {
   "cell_type": "markdown",
   "metadata": {},
   "source": [
    "### 2.11 \n",
    "\n",
    "Given: The Acme Insurance company has two types of customers, careful and reckless.  A careful customer has an accident during the year with a probability of 0.01.  A reckless customer has an accident during the year with a probability of 0.04.  80% of the customer are careful and 20% of the customers are reckless.  Suppose a randomly chosed customer has an accident this year.  What is the probability that this customer is one of the careful customers? \n",
    "\n",
    "$P(careful | accident) = \\frac{P(careful \\cap accident)}{P(Accident)}$\n",
    "\n",
    "$P(careful \\cap accident) = \\frac{8}{10}\\cdot\\frac{1}{100} = .008$\n",
    "\n",
    "$P(reckless \\cap accident) = \\frac{2}{10}\\cdot\\frac{4}{100} = .008$\n",
    "\n",
    "$P(reckless \\cap accident) = \\frac{8}{10}\\cdot\\frac{1}{100} = .008$\n",
    "\n",
    "$P(accident) = P(careful \\cap accident) + P(reckless \\cap accident) = .016$\n",
    "\n",
    "\n",
    "`Answer:`\n",
    "\n",
    "$P(careful | accident) = \\frac{0.008}{0.016} = \\frac{1}{2}$"
   ]
  },
  {
   "cell_type": "markdown",
   "metadata": {},
   "source": [
    "![alt text here](image211.jpg)"
   ]
  },
  {
   "cell_type": "code",
   "execution_count": null,
   "metadata": {},
   "outputs": [],
   "source": []
  }
 ],
 "metadata": {
  "kernelspec": {
   "display_name": "R",
   "language": "R",
   "name": "ir"
  },
  "language_info": {
   "codemirror_mode": "r",
   "file_extension": ".r",
   "mimetype": "text/x-r-source",
   "name": "R",
   "pygments_lexer": "r",
   "version": "3.6.1"
  }
 },
 "nbformat": 4,
 "nbformat_minor": 2
}
