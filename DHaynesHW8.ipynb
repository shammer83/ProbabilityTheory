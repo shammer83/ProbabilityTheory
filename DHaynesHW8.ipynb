{
 "cells": [
  {
   "cell_type": "markdown",
   "metadata": {},
   "source": [
    "Derek Haynes\n",
    "\n",
    "Probability Theory\n",
    "\n",
    "Homework 8"
   ]
  },
  {
   "cell_type": "markdown",
   "metadata": {},
   "source": [
    "### Exercise 3.15\n",
    "\n",
    "Given: Suppose that the random variable X has expected value $E[X] = 3$ and $Var(X) = 4$. Compute the following quantities. \n",
    "\n",
    "a) $E[3X+2]$\n",
    "\n",
    "Solution: \n",
    "\n",
    "$E[3x+2] = 3E[x] +2 = 11$ `by Fact 3.52`\n",
    "\n",
    "b) $E[X^2]$ \n",
    "\n",
    "Solution: \n",
    "\n",
    "Var(X) = $E(X^2) -(E[X])^2$\n",
    "\n",
    "Therefore... \n",
    "\n",
    "$4 = E(X^2) - 9$ `by fact 3.48 alternative formula for the variance`\n",
    "\n",
    "$E(X^2) = 13$\n",
    "\n",
    "c) $E[(2x+3)^2]$\n",
    "\n",
    "Solution: \n",
    "\n",
    "$E[4x^2 +12x + 9]$\n",
    "\n",
    "$= 4E[X^2]+12E[X]+9$ `by linearity property`\n",
    "\n",
    "$= 52+36+9 = 97$\n",
    "\n",
    "d) $Var(4X -2)$ \n",
    "\n",
    "Solution:\n",
    "\n",
    "`by fact 3.52:` $Var(aX+b) = a^2Var(X)$\n",
    "\n",
    "$ = 4^2Var(X) = 64$ `"
   ]
  },
  {
   "cell_type": "markdown",
   "metadata": {},
   "source": [
    "### Exercise 3.16\n",
    "\n",
    "Given:  Let Z have the following density function \n",
    "\n",
    "$f_Z(z) = \\begin{cases} \\frac{1}{7}, 1\\le z \\le 2 \\\\\n",
    "    \\frac{3}{7}, 5\\le z \\le 7 \\\\\n",
    "    0, other\n",
    "\\end{cases}$\n",
    "\n",
    "Compute both $E[Z]$ and $Var(Z)$"
   ]
  },
  {
   "cell_type": "markdown",
   "metadata": {},
   "source": [
    "$E[Z] = \\int_{1}^{2}\\frac{1}{7}zdz + \\int_{5}^{7}\\frac{3}{7}zdz$ \n",
    "\n",
    "$ = \\frac{1}{7}\\frac{z^2}{2}|_{1}^{2} + \\frac{3}{7}\\frac{z^2}{2}|_{5}^{7}$\n",
    "\n",
    "$ = \\frac{1}{7}[\\frac{3}{2}] + \\frac{3}{7}[12]$\n",
    "\n",
    "$ = \\frac{75}{14}$"
   ]
  },
  {
   "cell_type": "markdown",
   "metadata": {},
   "source": [
    "$E[Z^2] = \\int_{1}^{2}\\frac{1}{7}z^2dz + \\int_{5}^{7}\\frac{3}{7}z^2dz $ \n",
    "\n",
    "$ = \\frac{1}{7}\\frac{z^3}{3}|_{1}^{2} + \\frac{3}{7}\\frac{z^3}{3}|_{5}^{7}$ \n",
    "\n",
    "$ = \\frac{1}{7}(\\frac{8-1}{3}) + \\frac{3}{7}(\\frac{343-125}{3})$\n",
    "\n",
    "$ = \\frac{7}{21} + \\frac{654}{21} = \\frac{661}{21}$\n",
    "\n",
    "$Var(Z) = E[Z^2] - (E[Z])^2$\n",
    "\n",
    "$Var(Z) = \\frac{661}{21} - (\\frac{75}{14})^2$\n",
    "\n",
    "$Var(Z) = 2.77721$"
   ]
  },
  {
   "cell_type": "markdown",
   "metadata": {},
   "source": [
    "### Exercise 3.17\n",
    "\n",
    "Let $X$ ~ $N(-2,7)$. Find the following probabilities using the table in Appendix E. \n",
    "\n",
    "\n",
    "a) P(X > 3.5) \n",
    "\n",
    "Solution:\n",
    "\n",
    "Since Z = $\\frac{X-(-2)}{\\sqrt{7}}$\n",
    "\n",
    "$P(X > 3.5) = P(Z > \\frac{3.5 - (-2)}{\\sqrt{7}})$ \n",
    "\n",
    "$= 1 - \\Phi(2.078)$\n",
    "\n",
    "$ = 1- .9812 $\n",
    "\n",
    "$ = 0.0188$\n"
   ]
  },
  {
   "cell_type": "markdown",
   "metadata": {},
   "source": [
    "b) P(-2.1 < X < -1.9) \n",
    "\n",
    "Solution: \n",
    "\n",
    "$P(-2.1 < X < -1.9)$ \n",
    "\n",
    "= $P(\\frac{-2.1 - (-2)}{\\sqrt{7}}) < z < \\frac{-1.9 - (-2)}{\\sqrt{7}})$\n",
    "\n",
    "= P(-0.04 < z < 0.04) \n",
    "\n",
    "= P(z < 0.04) - (1 - (P(z < 0.04))\n",
    "\n",
    "= 0.516 - 0.484 = 0.0302\n"
   ]
  },
  {
   "cell_type": "markdown",
   "metadata": {},
   "source": [
    "c) P(X < 2) \n",
    "\n",
    "Solution: \n",
    "\n",
    "$P(z < \\frac{2-(-2)}{\\sqrt{7}})$\n",
    "\n",
    "$= P(z < 1.511)$\n",
    "\n",
    "$ = 0.9345$\n",
    "\n"
   ]
  },
  {
   "cell_type": "markdown",
   "metadata": {},
   "source": [
    "d) $P(X < -10)$\n",
    "\n",
    "Solution: \n",
    "\n",
    "$P(X < -10)$\n",
    "\n",
    "$= P(z < \\frac{-10-(-2)}{\\sqrt{7}})$\n",
    "\n",
    "$ = P(z < -3.023)$ \n",
    "\n",
    "$ = 1 - P(z < 3.023)$\n",
    "\n",
    "$ = 1 - 0.9987$\n",
    "\n",
    "$ = 0.0013$ \n"
   ]
  },
  {
   "cell_type": "markdown",
   "metadata": {},
   "source": [
    "e) $P(X > 4)$\n",
    "\n",
    "Solution: \n",
    "\n",
    "$P(z > \\frac{4-(-2)}{\\sqrt{7}})$\n",
    "\n",
    "$P(z > 2.27)$\n",
    "\n",
    "$ = 1 - P(z < 2.27)$\n",
    "\n",
    "$ = 0.0116$"
   ]
  },
  {
   "cell_type": "markdown",
   "metadata": {},
   "source": [
    "### Exercise 3.18 \n",
    "\n",
    "Let $X$ ~ N(3,4) \n",
    "\n",
    "a) Find the probability P(2 < X < 6) \n",
    "\n",
    "solution: \n",
    "\n",
    "$P(\\frac{2 - 3}{2} < z < \\frac{6 - 3}{2})$\n",
    "\n",
    "$ = P(-0.5 < z < 1.5)$\n",
    "\n",
    "$ = P(z < 1.5) - (1 - P(z < 0.5))$\n",
    "\n",
    "$ = .9332 - 0.3085$\n",
    "\n",
    "$ = 0.6247$"
   ]
  },
  {
   "cell_type": "markdown",
   "metadata": {},
   "source": [
    "b) Find the value c such that $P(X > c) = 0.33$\n",
    "\n",
    "Solution: \n",
    "\n",
    "$P(z > \\frac{c-3}{2})$\n",
    "\n",
    "$1 - P(z < \\frac{c-3}{2}) = 0.33$\n",
    "\n",
    "$P(z < \\frac{c-3}{2}) = 0.67$\n",
    "\n",
    "$\\Phi(0.444) = 0.67$\n",
    "\n",
    "Therefore ...\n",
    "\n",
    "$\\frac{c-3}{2} = 0.444$\n",
    "\n",
    "and ...\n",
    "\n",
    "$c = 3.888$"
   ]
  },
  {
   "cell_type": "markdown",
   "metadata": {},
   "source": [
    "c) Find $E[X^2]$\n",
    "\n",
    "$Var(X) = E[X^2] - (E[X])^2$\n",
    "\n",
    "$4 = E[X^2] - (3)^2 $\n",
    "\n",
    "$13 = E[X^2]$\n",
    "\n"
   ]
  },
  {
   "cell_type": "markdown",
   "metadata": {},
   "source": [
    "### Exercise 3.67 and 3.68\n",
    "\n",
    "Let Z ~ N(0,1).\n",
    "\n",
    "a) Calculate $E[Z^3]$\n"
   ]
  },
  {
   "cell_type": "markdown",
   "metadata": {},
   "source": [
    "Solution: \n",
    "\n",
    "$f(z) = z^3e^(\\frac{-z^2}{2})$ `is an odd function f(-x) = -f(x)`\n",
    "\n",
    "Therefore...\n",
    "\n",
    "$\\int_{-a}^{a}f(z)dz = 0$  \n",
    "\n",
    "then $E[Z^3] = 0$"
   ]
  },
  {
   "cell_type": "markdown",
   "metadata": {},
   "source": [
    "b) Calculate $E[Z^4]$ \n",
    "\n",
    "Solution: \n",
    "\n"
   ]
  },
  {
   "cell_type": "markdown",
   "metadata": {},
   "source": [
    "`using the moment generating function`\n",
    "\n",
    "$E[Z^4]= z^4e{}z \n",
    "\n"
   ]
  },
  {
   "cell_type": "code",
   "execution_count": null,
   "metadata": {},
   "outputs": [],
   "source": []
  }
 ],
 "metadata": {
  "kernelspec": {
   "display_name": "R",
   "language": "R",
   "name": "ir"
  },
  "language_info": {
   "codemirror_mode": "r",
   "file_extension": ".r",
   "mimetype": "text/x-r-source",
   "name": "R",
   "pygments_lexer": "r",
   "version": "3.6.1"
  }
 },
 "nbformat": 4,
 "nbformat_minor": 2
}
