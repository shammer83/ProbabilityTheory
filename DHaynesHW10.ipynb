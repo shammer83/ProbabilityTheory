{
 "cells": [
  {
   "cell_type": "markdown",
   "metadata": {},
   "source": [
    "Derek Haynes\n",
    "\n",
    "Probability Theory\n",
    "\n",
    "HW 10"
   ]
  },
  {
   "cell_type": "markdown",
   "metadata": {},
   "source": [
    "## Section 4.4 \n",
    "\n",
    "### Exercise 4.9\n",
    "\n",
    "Given: Let $X$ ~ $Poisson(10)$\n",
    "\n",
    "a) Find $P(X \\ge 7)$ \n",
    "\n",
    "b) Find $P(X \\le 13 | X \\ge 7)$\n"
   ]
  },
  {
   "cell_type": "markdown",
   "metadata": {},
   "source": [
    "Solution: \n",
    "\n",
    "a)\n",
    "\n",
    "$np = \\lambda = 10$\n",
    "\n",
    "$P(X \\le 6 ) = P(X = 0) + P(X = 1) + P( X = 2 ) ... +P(X = 6)$ \n",
    "\n",
    "$P(X = 0) = e^{-10}\\cdot \\frac{10^0}{0!} = 4.5399 \\cdot 10^{-5}$\n",
    "\n",
    "$P(X = 1) = e^{-10}\\cdot \\frac{10^1}{1!} = 4.5399 \\cot 10^{-4}$\n",
    "\n",
    "$P(X = 2) = e^{-10}\\cdot \\frac{10^2}{2!} = 0.0022699$\n",
    "\n",
    "$P(X = 3) = e^{-10}\\cdot \\frac{10^3}{3!} = 0.0075666$\n",
    "\n",
    "$P(X = 4) = e^{-10}\\cdot \\frac{10^4}{4!} = 0.0189$\n",
    "\n",
    "$P(X = 5) = e^{-10}\\cdot \\frac{10^5}{5!} = 0.037833$\n",
    "\n",
    "$P(X = 6) = e^{-10}\\cdot \\frac{10^6}{6!} = 0.063055$\n",
    "\n",
    "Therefore ...\n",
    "\n",
    "$P(X \\le 6) = 0.1301$\n",
    "\n",
    "and ..\n",
    "\n",
    "$1 - P(X \\le 6) = 1 -0.1301 = 0.86985$"
   ]
  },
  {
   "cell_type": "markdown",
   "metadata": {},
   "source": [
    "b)\n",
    "\n",
    "$\\frac{P(X \\le 13) - P(X \\le 7) + P(X = 7)} {P(X \\ge 7)} $\n",
    "\n",
    "$P(X \\le 13 ) = P(X = 0) + P(X = 1) + P( X = 2 ) ... +P(X = 13)$ \n",
    "\n",
    "$P(X = 0) = e^{-10}\\cdot \\frac{10^0}{0!} = 4.5399 \\cdot 10^{-5}$\n",
    "\n",
    "$P(X = 1) = e^{-10}\\cdot \\frac{10^1}{1!} = 4.5399 \\cot 10^{-4}$\n",
    "\n",
    "$P(X = 2) = e^{-10}\\cdot \\frac{10^2}{2!} = 0.0022699$\n",
    "\n",
    "$P(X = 3) = e^{-10}\\cdot \\frac{10^3}{3!} = 0.0075666$\n",
    "\n",
    "$P(X = 4) = e^{-10}\\cdot \\frac{10^4}{4!} = 0.0189$\n",
    "\n",
    "$P(X = 5) = e^{-10}\\cdot \\frac{10^5}{5!} = 0.037833$\n",
    "\n",
    "$P(X = 6) = e^{-10}\\cdot \\frac{10^6}{6!} = 0.063055$\n",
    "\n",
    "$P(X = 7) = e^{-10}\\cdot \\frac{10^7}{7!} = 0.090079$\n",
    "\n",
    "$P(X = 8) = e^{-10}\\cdot \\frac{10^8}{8!} = 0.112599$\n",
    "\n",
    "$P(X = 9) = e^{-10}\\cdot \\frac{10^9}{9!} = 0.12511$\n",
    "\n",
    "$P(X = 10) = e^{-10}\\cdot \\frac{10^10}{10!} = 0.1251100$\n",
    "\n",
    "$P(X = 11) = e^{-10}\\cdot \\frac{10^11}{11!} = 0.11373$\n",
    "\n",
    "$P(X = 12) = e^{-10}\\cdot \\frac{10^12}{12!} = 0.09478$\n",
    "\n",
    "$P(X = 13) = e^{-10}\\cdot \\frac{10^13}{13!} = 0.072907$\n",
    "\n",
    "Therefore ...\n",
    "\n",
    "$P(X \\le 13) = 0.8644$\n",
    "\n",
    "and ... \n",
    "\n",
    "$\\frac{P(X \\le 13) - P(X \\le 7) + P(X = 7)} {P(X \\ge 7)} = \\frac{0.8644 - 0.22022 + 0.09008} {0.1301)} $\n",
    "\n",
    "$ = 0.84418$"
   ]
  },
  {
   "cell_type": "markdown",
   "metadata": {},
   "source": [
    "###  Exercise 4.10\n",
    "\n",
    "Given: A hockey player scores at least one goal in roughly half of his games. How would you estimate the percentage of games where he scores a hat-trick (three goals)?\n"
   ]
  },
  {
   "cell_type": "markdown",
   "metadata": {},
   "source": [
    "solution:\n",
    "\n",
    "$P(X = 0) = 0.5$\n",
    "\n",
    "$P(X = 0) = e^{-\\lambda}\\frac{\\lambda^0}{0!}$\n",
    "\n",
    "$0.5 = e^{-\\lambda}$\n",
    "\n",
    "$-ln(0.5) = \\lambda$\n",
    "\n",
    "$ln(2) = \\lambda$\n",
    "\n",
    "Therefore ... \n",
    "\n",
    "$P(X = 3) = e^{-ln2} \\frac{(\\ln2)^3}{3!}$\n",
    "\n",
    "$ = 0.027752$"
   ]
  },
  {
   "cell_type": "markdown",
   "metadata": {},
   "source": [
    "### Exercise 4.46\n",
    "\n",
    "Given: Jessica flips a fair coin 5 times every morning, for 30 days straight. Let X be the number of mornings over these 30 days on which all 5 flips are tails. Use either the normal or the Poisson approximation, whichever is more appropriate, to give an estimate for the probability $ P\\left(X=2\\right)$ . Justify you choice of approximation."
   ]
  },
  {
   "cell_type": "markdown",
   "metadata": {},
   "source": [
    "Solution: \n",
    "\n",
    "$P(tails five times) = (\\frac{1}{2})^5 = 0.03125$\n",
    "\n",
    "$X$ ~ $bin(30, 0.03125)$\n",
    "\n",
    "`Using the poisson approximation`\n",
    "\n",
    "$\\lambda = 30 \\cdot -0.03125) = 0.9375$\n",
    "\n",
    "$X$ ~ $Poisson(0.9375)$\n",
    "\n",
    "Therefore ... \n",
    "\n",
    "$P(X = 2) = e^{-0.9375} \\frac{0.9375^2}{2!} = 0.172092$\n"
   ]
  },
  {
   "cell_type": "markdown",
   "metadata": {},
   "source": [
    "## Section 4.5 \n",
    "\n",
    "### Exercise 4.13 \n",
    "\n",
    "Let $T\\sim Exp\\left(\\frac{1}{3}\\right).$\n",
    "\n",
    "(a) Find $P\\left(T>3\\right).$\n",
    "\n",
    "(b) Find $P\\left(1\\le T<8\\right).$\n",
    "\n",
    "(c) Find $P\\left(T>4\\:\\mid\\:T>1\\right).$\n",
    "\n",
    " "
   ]
  },
  {
   "cell_type": "markdown",
   "metadata": {},
   "source": [
    "Solution (a):\n",
    "\n",
    "$P(T > 3) = e^{-3\\frac{1}{3}} = 0.36$\n"
   ]
  },
  {
   "cell_type": "markdown",
   "metadata": {},
   "source": [
    "Solution (b): \n",
    "\n",
    "$P(1 \\le T < 8) = P( T \\ge 1)  - P( T > 8)$\n",
    "\n",
    "$ = e^{-\\frac{1}{3}} - e^{-\\frac{8}{3}}$\n",
    "\n",
    "$ = 0.647$\n",
    "\n"
   ]
  },
  {
   "cell_type": "markdown",
   "metadata": {},
   "source": [
    "Solution (c): \n",
    "\n",
    "`Memoryless property of the exponential distribution`\n",
    "\n",
    "Therefore ...\n",
    "\n",
    "$P(T > 4 | T > 1) = P( T > 3)$\n",
    "\n",
    "$ = e^{-1}$\n",
    "\n",
    "$ = 0.36$\n",
    "\n"
   ]
  },
  {
   "cell_type": "markdown",
   "metadata": {},
   "source": [
    "### Exercise 4.14 \n",
    "\n",
    "The lifetime of a lightbulb can be modeled with an exponential random variable with an expected lifetime of 1000 days.\n",
    "\n",
    "(a) Find the probability that the lightbulb will function for more than 2000 days.\n",
    "\n",
    "(b) Find the probability that the lightbulb will function for more than 2000 days, given that it is still functional after 500 days."
   ]
  },
  {
   "cell_type": "markdown",
   "metadata": {},
   "source": [
    "Solution (a): \n",
    "\n",
    "$E[X] = 1000 = \\frac{1}{\\lambda}$\n",
    "\n",
    "Therefore $\\lambda = \\frac{1}{1000}$\n",
    "\n",
    "$P(X > 2000) = e ^{-\\lambda \\cdot 2000} = 0.1353$"
   ]
  },
  {
   "cell_type": "markdown",
   "metadata": {},
   "source": [
    "Solution (b): \n",
    "\n",
    "`Memoryless property of the exponential distribution`\n",
    "\n",
    "$P(X > 2000 | X > 500) = P( X > 1500)$\n",
    "\n",
    "$= e^{-1.5} = 0.22$\n"
   ]
  },
  {
   "cell_type": "markdown",
   "metadata": {},
   "source": [
    "### Exercise 4.50 \n",
    "\n",
    "Suppose an alarm clock has been set to ring after T hous, where $T\\sim Exp\\left(\\frac{1}{3}\\right)$ Suppose further that your friend has been staring at the clock for exactly 7 hours and can confirm that it has not yet rung. At this point, your friend wants to know when the clock will finally ring. Calculate her conditional probability that she needs to wait at least 3 more hours, given that she has already waited 7 hours. "
   ]
  },
  {
   "cell_type": "markdown",
   "metadata": {},
   "source": [
    "Solution: \n",
    "\n",
    "`Memoryless property of the exponential distribution`\n",
    "\n",
    "$P(T \\ge 10 | T > 7) = P( X \\ge 3)$\n",
    "\n",
    "$ \\lambda = \\frac{1}{3}$\n",
    "\n",
    "$= e ^{-lambda \\cdot 3} = e^{-1}$\n"
   ]
  },
  {
   "cell_type": "code",
   "execution_count": null,
   "metadata": {},
   "outputs": [],
   "source": []
  }
 ],
 "metadata": {
  "kernelspec": {
   "display_name": "R",
   "language": "R",
   "name": "ir"
  },
  "language_info": {
   "codemirror_mode": "r",
   "file_extension": ".r",
   "mimetype": "text/x-r-source",
   "name": "R",
   "pygments_lexer": "r",
   "version": "3.6.1"
  }
 },
 "nbformat": 4,
 "nbformat_minor": 2
}
