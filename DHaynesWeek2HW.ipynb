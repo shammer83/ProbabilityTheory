{
 "cells": [
  {
   "cell_type": "markdown",
   "metadata": {},
   "source": [
    "Derek Haynes\n",
    "\n",
    "Math 463\n",
    "\n",
    "HW #2 "
   ]
  },
  {
   "cell_type": "markdown",
   "metadata": {},
   "source": [
    "### 1.9 "
   ]
  },
  {
   "cell_type": "markdown",
   "metadata": {},
   "source": [
    "\n",
    "\n",
    "Given: We break a stick at a uniformly chose random location.  Find the probability that the shorter piece is less than $\\frac{1}{5}th$ of the original.\n"
   ]
  },
  {
   "cell_type": "markdown",
   "metadata": {},
   "source": [
    "Solution:"
   ]
  },
  {
   "cell_type": "markdown",
   "metadata": {},
   "source": [
    "![alt text here](1.13.jpg)"
   ]
  },
  {
   "cell_type": "markdown",
   "metadata": {},
   "source": [
    "`Answer`\n",
    "\n",
    "$P(A) = \\frac{\\frac{l}{5}+\\frac{l}{5}}{l} = \\frac{\\frac{2l}{5}}{l} = \\frac{2}{5}$"
   ]
  },
  {
   "cell_type": "markdown",
   "metadata": {},
   "source": [
    "### 1.11"
   ]
  },
  {
   "cell_type": "markdown",
   "metadata": {},
   "source": [
    "Given:  We throw a dart at a square shaped board of side length 20 inches.  Assume that the dart hits the board at a uniformly chosen random point.  Find the probability that the dart is within 2 inches of the center of the board\n"
   ]
  },
  {
   "cell_type": "markdown",
   "metadata": {},
   "source": [
    "Solution:\n"
   ]
  },
  {
   "cell_type": "markdown",
   "metadata": {},
   "source": [
    "![alt test here](1.11.jpg)"
   ]
  },
  {
   "cell_type": "markdown",
   "metadata": {},
   "source": [
    "Area of a Circle $ = \\pi r^2$\n",
    "\n",
    "`Answer`\n",
    "\n",
    "P(within 2 inches of center of board) = $\\frac{\\pi (2)^2}{20\\cdot20} = \\frac{4\\pi}{400} = \\frac{\\pi}{100} $"
   ]
  },
  {
   "cell_type": "markdown",
   "metadata": {},
   "source": [
    "1.13\n",
    "Given: At a certain school, 25% of the students wear a watch and 30% wear a bracelet.  60% of the student wear neither a watch nor a bracelet.  \n",
    "\n",
    "A) One of the students is chosen at random.  What is the probability that this student is wearing a watch or bracelet?\n",
    "\n",
    "B) What is the probability that this student is wearing both a watch and a bracelet?\n",
    "\n",
    "\n",
    "$P(A) = 0.25$ $P(B) = 0.30$ \n",
    "\n",
    "Solution A: \n",
    "\n",
    "$P(A \\cup B)$ = probability of watch or bracelet\n",
    "\n",
    "$P(A \\cup B) = 1.0 - 0.60 = 0.40$\n",
    "\n",
    "Solution B: \n",
    "\n",
    "$P(A \\cap B) = P(A)+P(B) - P(A \\cup B) = 0.25 + 0.30 - 0.40 = 0.15$ "
   ]
  },
  {
   "cell_type": "markdown",
   "metadata": {},
   "source": [
    "### 1.14"
   ]
  },
  {
   "cell_type": "markdown",
   "metadata": {},
   "source": [
    "Given Assume that $P(A) = 0.4$ and $P(B) = 0.7$ Making no further assumptions on A and B, show that: \n",
    "\n",
    "$P(A \\cap B)$  satisfies $0.1 < P(A \\cap B) \\leq 0.4$"
   ]
  },
  {
   "cell_type": "markdown",
   "metadata": {},
   "source": [
    "Knowing $P(A \\cup B) = P (A) + P(B) - P(A \\cap B)$\n",
    "\n",
    "also...\n",
    "\n",
    "$0 \\leq P(A \\cup B) \\leq 1$\n",
    "\n",
    "$0 \\leq P (A) + P(B) - P(A \\cap B) \\leq 1$\n",
    "\n",
    "$0 \\leq 0.4 + 0.7 - P(A \\cap B) \\leq 1$\n",
    "\n",
    "$0 \\leq 1.1 - P(A \\cap B) \\leq 1$\n",
    "\n",
    "$\\rightarrow P(A \\cap B) \\geq 1.1 -1$\n",
    "\n",
    "$ P(A \\cap B) \\geq 0.1$\n",
    "\n",
    "\n",
    "also... \n",
    "\n",
    "$P(A \\cup B) \\geq P(B)$\n",
    "\n",
    "$P (A) + P(B) - P(A \\cap B) \\geq P(B)$\n",
    "\n",
    "$P(A \\cap B) \\leq P(A)$\n",
    "\n",
    "$P(A \\cap B) \\leq 0.4$\n",
    "\n",
    "Therefore ...\n",
    "\n",
    "$ 0.1 \\leq P(A \\cap B) \\leq 0.4$"
   ]
  },
  {
   "cell_type": "markdown",
   "metadata": {},
   "source": [
    "### 1.15"
   ]
  },
  {
   "cell_type": "markdown",
   "metadata": {},
   "source": [
    "Given: An urn contains 4 balls: 1 white, 1 green and 2 red.  We draw 3 balls with replacement.  Find the probability that we did not see all three colors. \n",
    "\n",
    "A) Define the event W = $\\{$white ball did not appear $\\}$ and similiary for G and R.  Use inclusion-exclusion\n",
    "\n",
    "B) Compute the probability by considering the complement of the event that we did not see all three colors. \n",
    "\n"
   ]
  },
  {
   "cell_type": "markdown",
   "metadata": {},
   "source": [
    "Solution:\n",
    "\n",
    "A) \n",
    "\n",
    "Event White ball did not appear $P(W) = \\frac{3}{4} \\frac{3}{4} \\frac{3}{4} = \\frac{27}{64}$\n",
    "\n",
    "Event Green ball did not appear $P(G) = \\frac{3}{4} \\frac{3}{4} \\frac{3}{4} = \\frac{27}{64} $\n",
    "\n",
    "Event Red ball did not appear $P(R) = \\frac{2}{4} \\frac{2}{4} \\frac{2}{4} = \\frac{8}{64} $\n",
    "\n",
    "\n",
    "\n",
    "\n",
    "$P(W \\cup G \\cup R) = P(W) + P(G) + P(R) - P(W \\cap G) - P(W \\cap R) - P(G \\cap R) + P(W \\cap G \\cap R)$ \n",
    "\n",
    "$P(W\\cap G) = \\frac{2}{4}\\frac{2}{4} \\frac{2}{4} = \\frac{8}{64}$\n",
    "\n",
    "$P(W\\cap R) = \\frac{1}{4}\\frac{1}{4} \\frac{1}{4} = \\frac{1}{64}$\n",
    "\n",
    "$P(G\\cap R) = \\frac{1}{4}\\frac{1}{4} \\frac{1}{4} = \\frac{1}{64}$\n",
    "\n",
    "$P(W\\cap G\\cap R) = 0$\n",
    "\n",
    "$P(W \\cup G \\cup R) =  \\frac{27}{64} +  \\frac{27}{64} + \\frac{8}{64} -  \\frac{8}{64} -  \\frac{1}{64} -  \\frac{1}{64} + 0$ \n",
    "\n",
    "= $\\frac{13}{16}$"
   ]
  },
  {
   "cell_type": "markdown",
   "metadata": {},
   "source": [
    "B) \n",
    "\n",
    "We can chose 1 ball of each color $\\binom{1}{1}\\binom{1}{1}\\binom{2}{1} = 2$ and the three can be arranged 3! ways so the total number of all color outcomes is $3!*2 = 12$\n",
    "\n",
    "Thus \n",
    "\n",
    "P(all colors) = $\\frac{12}{64}$\n",
    "\n",
    "`by complement law`\n",
    "\n",
    "P(not all three colors) = 1 - P(all colors) = $1 - \\frac{12}{64} = \\frac{13}{16}$"
   ]
  },
  {
   "cell_type": "code",
   "execution_count": null,
   "metadata": {},
   "outputs": [],
   "source": []
  }
 ],
 "metadata": {
  "kernelspec": {
   "display_name": "R",
   "language": "R",
   "name": "ir"
  },
  "language_info": {
   "codemirror_mode": "r",
   "file_extension": ".r",
   "mimetype": "text/x-r-source",
   "name": "R",
   "pygments_lexer": "r",
   "version": "3.6.1"
  }
 },
 "nbformat": 4,
 "nbformat_minor": 2
}
