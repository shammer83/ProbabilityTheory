{
 "cells": [
  {
   "cell_type": "markdown",
   "metadata": {},
   "source": [
    "Derek Haynes\n",
    "\n",
    "Probability Theory \n",
    "\n",
    "HW 13"
   ]
  },
  {
   "cell_type": "markdown",
   "metadata": {},
   "source": [
    "### Section 8.1\n",
    "\n",
    "#### Exercise 8.1.\n",
    "\n",
    "Let n be a positive integer and p and r two real numbers in $(0 , 1)$ . Two random variables X and Y are defined on the same sample space. All we know about them is that $ X\\:\\sim\\:Geom\\left(p\\right)$ and $Y \\sim B i n ( n , r )$ . For each expectation in parts (a)-(d) below, decide whether it can be calculated with this information, and if it can, give its value.\n",
    "\n",
    "(a) $ E [ X + Y ]$\n",
    "\n",
    "(b) $E [ X Y ]$\n",
    "\n",
    "(c) $ E [ X^ 2 + Y^ 2 ]$\n",
    "\n",
    "(d)  $E[(X+Y)^2]$"
   ]
  },
  {
   "cell_type": "markdown",
   "metadata": {},
   "source": [
    "#### Solution a)\n",
    "\n",
    "$E[X + Y] = E[X] + E[Y]$\n",
    "\n",
    "\n",
    "$= \\frac{1}{p} + nr$\n",
    "\n"
   ]
  },
  {
   "cell_type": "markdown",
   "metadata": {},
   "source": [
    "#### Solution b)\n",
    "\n",
    "E[XY]  = not enough information since we don't know if X and Y are independent Random Variables"
   ]
  },
  {
   "cell_type": "markdown",
   "metadata": {},
   "source": [
    "#### Solution c) \n",
    "\n",
    "$E[X^2 + Y^2] = E[X^2] + E[Y^2]$\n",
    "\n",
    "\n",
    "If $Var (Y) = nr(1-r)$ and $E[Y] = nr$\n",
    "\n",
    "then ...\n",
    "\n",
    "$Var(Y) = E(Y^2) - (E[Y])^2$  `variance of a binomial random variable`\n",
    "\n",
    "$nr(1-r) = E(Y^2) - (nr)^2$\n",
    "\n",
    "$E[Y^2] = nr(1-r+nr)$\n",
    "\n",
    "And .... \n",
    "\n",
    "$E[X^2 ] = \\frac{1+q}{p^2}$  `Variance of a Geometric random variable`\n",
    "\n",
    "Therefore... \n",
    "\n",
    "$E[X^2 + Y^2] = \\frac{1+q}{p^2} + nr(1-r+nr)$ `where q = 1-p`"
   ]
  },
  {
   "cell_type": "markdown",
   "metadata": {},
   "source": [
    "#### Solution d)\n",
    "\n",
    "Not enough information"
   ]
  },
  {
   "cell_type": "markdown",
   "metadata": {},
   "source": [
    "### #Exercise 8.4.\n",
    "\n",
    "Jessica has a four-sided die, a six-sided die, and a 12-sided die. She rolls the three dice once. Let Z be the number of fours showing. Find $E[Z]$ using the indicator method."
   ]
  },
  {
   "cell_type": "markdown",
   "metadata": {},
   "source": [
    "#### Solution: \n",
    "\n",
    "$Y_1 =$  outcome of the four sided die\n",
    "\n",
    "$Y_2 =$  outcome of the six sided die\n",
    "\n",
    "$Y_3 =$  outcome of the twelve sided die\n",
    "\n",
    "then the indicator functions are such ...\n",
    "\n",
    "$I_1 = 1 $ when $Y_1 = 4$ \n",
    "\n",
    "$I_2 = 1$ when  $Y_2 = 4$ \n",
    "\n",
    "$I_3 = 1$ when $Y_3 = 4$ "
   ]
  },
  {
   "cell_type": "markdown",
   "metadata": {},
   "source": [
    "$Z$ denots the number of 4s showing when rolling the three dice at once so ... \n",
    "\n",
    "$Z = I_1 + I_2+I_3$\n",
    "\n",
    "and \n",
    "\n",
    "$E[Z] = E[I_1]+E[I_2] + E[I_3]$\n",
    "\n",
    "so $E[I_1] = \\frac{1}{4}$ \n",
    "\n",
    "$E[I_2]= \\frac{1}{6}$\n",
    "\n",
    "$E[I_3]= \\frac{1}{12}$\n",
    "\n",
    "Therefore ...\n",
    "\n",
    "$E[Z] = \\frac{1}{4} + \\frac{1}{6} + \\frac{1}{12} = \\frac{1}{2}$"
   ]
  },
  {
   "cell_type": "markdown",
   "metadata": {},
   "source": [
    "#### Exercise 8.28\n",
    "\n",
    "We have an urn with 25 yellow, 30 green, and 40 red marbles. We take a sample of 10 without replacement and denote the number of yellow and green marbles in the sample by X and Y, respectively. Find E[ X - Y]."
   ]
  },
  {
   "cell_type": "markdown",
   "metadata": {},
   "source": [
    "#### Solution: `"
   ]
  },
  {
   "cell_type": "markdown",
   "metadata": {},
   "source": [
    "$X \\sim Hypergeometric (95, 25, 10)$\n",
    "\n",
    "$Y \\sim Hypergeometric (95, 30, 10)$\n",
    "\n",
    "\n",
    "Therefore ....\n",
    "\n",
    "$E[X] = \\frac{nN_A}{N}$  and $E[Y] = \\frac{nN_B}{N}$\n",
    "\n",
    "$E[X - Y] =  E[X] - E[Y] = \\frac{nN_A}{N} - \\frac{nN_B}{N}$ \n",
    "\n",
    "$ = \\frac{250}{95} - \\frac{300}{95} = -\\frac{50}{95}$"
   ]
  },
  {
   "cell_type": "markdown",
   "metadata": {},
   "source": [
    "### Section 8.2\n",
    "\n",
    "\n",
    "#### Exercise 8.6 \n",
    "\n",
    "\n",
    "Let X and Y be as in Exercise 8.1. Assume additionally that X and Y are independent. Evaluate all the expectations in parts (a)-(d) of Exercise 8.1.\n",
    "\n",
    "(a) $ E [ X + Y ]$\n",
    "\n",
    "(b) $E [ X Y ]$\n",
    "\n",
    "(c) $ E [ X^ 2 + Y^ 2 ]$\n",
    "\n",
    "(d)  $E[(X+Y)^2]$\n",
    "\n",
    " "
   ]
  },
  {
   "cell_type": "markdown",
   "metadata": {},
   "source": [
    "#### Solution a) \n",
    "\n",
    "\n",
    "$E[X + Y] = E[X] + E[Y]$\n",
    "\n",
    "\n",
    "$= \\frac{1}{p} + nr$\n",
    "\n"
   ]
  },
  {
   "cell_type": "markdown",
   "metadata": {},
   "source": [
    "#### Solution b)\n",
    "\n",
    "$E[XY] =  E[X]\\cdot E[Y] = \\frac{nr}{p}$\n",
    "\n"
   ]
  },
  {
   "cell_type": "markdown",
   "metadata": {},
   "source": [
    "#### Solution c)\n",
    "\n",
    "\n",
    "$E[X^2 + Y^2] = E[X^2] + E[Y^2]$\n",
    "\n",
    "\n",
    "If Var (Y) = nr(1-r) and E[Y] = nr\n",
    "\n",
    "then ...\n",
    "\n",
    "$Var(Y) = E(Y^2) - (E[Y])^2$  `variance of a binomial random variable`\n",
    "\n",
    "$nr(1-r) = E(Y^2) - (nr)^2$\n",
    "\n",
    "$E[Y^2] = nr(1-r+nr)$\n",
    "\n",
    "And .... \n",
    "\n",
    "$E[X^2 ] = \\frac{1+q}{p^2}$  `Variance of a Geometric random variable`\n",
    "\n",
    "Therefore... \n",
    "\n",
    "$E[X^2 + Y^2] = \\frac{1+q}{p^2} + nr(1-r+nr)$ `where q = 1-p`"
   ]
  },
  {
   "cell_type": "markdown",
   "metadata": {},
   "source": [
    "#### Solution d)\n",
    "\n",
    "step 1. $E[(X+Y)^2] = E[X^2] + E[2XY]+ E[Y^2]$\n",
    "\n",
    "step 2. $E[(X+Y)^2] = E[X^2] + 2E[XY]+ E[Y^2]$\n",
    "\n",
    "If $Var (Y) = nr(1-r)$ and $E[Y] = nr$\n",
    "\n",
    "then ...\n",
    "\n",
    "$Var(Y) = E(Y^2) - (E[Y])^2$  `variance of a binomial random variable`\n",
    "\n",
    "$nr(1-r) = E(Y^2) - (nr)^2$\n",
    "\n",
    "$E[Y^2] = nr(1-r+nr)$\n",
    "\n",
    "And .... \n",
    "\n",
    "$E[X^2 ] = \\frac{1+q}{p^2}$  `Variance of a Geometric random variable`\n",
    "\n",
    "\n",
    "Therefore .... \n",
    "\n",
    "step 3.  $E[(X+Y)^2] = \\frac{1+q}{p^2} + 2\\cdot\\frac{nr}{p}+ nr(1-r+nr)$"
   ]
  },
  {
   "cell_type": "markdown",
   "metadata": {},
   "source": [
    "#### Exercise 8.8.\n",
    "\n",
    "Our faucet is broken, and a plumber has been called. The arrival time of the plumber is uniformly distributed between 1 PM and 7 PM. Independently of when the plumber arrives, the time it takes to fix the broken faucet is exponentially distributed with mean 30 minutes. Find the expectation and variance of the time at which the plumber completes the project. "
   ]
  },
  {
   "cell_type": "markdown",
   "metadata": {},
   "source": [
    "solution: \n",
    "\n",
    "$X$ $\\sim U[1,7]$\n",
    "\n",
    "$Y$ $\\sim Exp(\\lambda)$ \n",
    "\n",
    "where ... \n",
    "$E[Y] = \\frac{30}{60} = \\frac{1}{2} $"
   ]
  },
  {
   "cell_type": "markdown",
   "metadata": {},
   "source": [
    "$E[X+Y] = E[X] + E[Y]$\n",
    "\n",
    "$E[X] = \\frac{1+7}{2} = 4$ `mean of a uniform random variable`\n",
    "\n",
    "\n",
    "$E[X+Y] = 4 +  0.5$\n",
    "\n",
    "\n",
    "Therefore the expectation of the time the plummer completes the project is 4.5 hours"
   ]
  },
  {
   "cell_type": "markdown",
   "metadata": {},
   "source": [
    "$V(X + Y) = Var(X) + Var(Y)$\n",
    "\n",
    "where... \n",
    "\n",
    "$Var(X) = \\frac{(7-1)^2}{12} = 3$ `Varaince of a uniform random variable`\n",
    "\n",
    "$Var(Y) = \\frac{1}{2}^2 = \\frac{1}{4}$ `Variance of an exponential random variable`\n",
    "\n",
    "$Var(X+Y) = 3.25$"
   ]
  },
  {
   "cell_type": "markdown",
   "metadata": {},
   "source": [
    "### Exercise 8.41\n",
    "\n",
    "The random variables  $X_1 , X_2 , ⋯ , X_n$ are i.i.d. We also know that $E[X_1]=0, E[X_1^2]=a , \\text{and}E[X_1^3]=b$. Let $\\overline{X}_n=\\frac{X_1 +X_2 + \\cdots + X_n}{n}$. Find the third moment of $\\overline{X}_n$."
   ]
  },
  {
   "cell_type": "markdown",
   "metadata": {},
   "source": [
    "#### Solution:\n",
    "\n",
    "\n",
    "$(X_1 + X_2 + X_3)^3 = X_1^3+X_2^3 + X_3^3 + 3(X_1^2X_2 + X_1^2X_3 + X_2^2X_3) + 3(X_1X_2^2 + X_1X_3^2 + X_2X_3^2 + 6X_1X_2X_3 $"
   ]
  },
  {
   "cell_type": "markdown",
   "metadata": {},
   "source": [
    "$E[X_1^3] = E[X_2^2] = E[X_1^3] = b$ `because they are i.i.d.`\n",
    "\n",
    "$E[X_1^2X_2] = E[X_1^2]E[X_2] = a \\cdot 0 = 0 $\n",
    "\n",
    "$E[X_1X_2^2] = E[X_1]E[X_2^2] = 0 \\cdot a = 0$\n",
    "\n",
    "$E[X_1X_2X_3] = E[X_1]\\cdot E[X_2] \\cdot E[X_3] = 0$ \n",
    "\n",
    "Therefore... \n",
    "\n",
    "$(X_1 + X_2 + X_3)^3 = X_1^3+X_2^3 + X_3^3 + 0 + 0+ 0 $\n",
    "\n",
    "$E[\\overline X_{3}^3] = E[(\\frac{X_1+X_3+X_3}{3})^3] = \\frac{1}{3^3}E[(X_1+X_3+X_3)^3]$\n",
    "\n",
    "$= \\frac{1}{3^3}E[(X_1^3]+E[X_2^3]+E[X_3^3]$\n",
    "\n",
    "$ = \\frac {3b}{3^3} = \\frac{b}{3^2}$\n",
    "\n",
    "\n",
    "Moreover ... \n",
    "\n",
    "$ = \\frac{nb}{n^3} = \\frac{b}{n^2}$"
   ]
  },
  {
   "cell_type": "markdown",
   "metadata": {},
   "source": [
    "### Exercise 8.42\n",
    "\n",
    "The random variables  $X_1 , X_2 , ⋯ , X_n$ are i.i.d. We also know that $E[X_1]=0, E[X_1^2]=a , E[X_1^3]=b,$ and $E[X_1^4]=c$. Let $\\overline{X}_n=\\frac{X_1 +X_2 + \\cdots + X_n}{n}$. Find the fourth moment of $\\overline{X}_n$."
   ]
  },
  {
   "cell_type": "markdown",
   "metadata": {},
   "source": [
    "#### Solution: \n",
    "\n",
    "\n",
    "$(X_1 + X_2 + X_3)^4 = X_1^4+X_2^4 + X_3^4 + 4(X_1^3X_2 + X_1X_2^3 + X_2^3X_3+X_2X_3^3+X_3^3X_1+X_3X_1^3) + 6(X_1^2X_2^2 + X_2^2X_3^2 + X_3^2X_1^2) +2(X_1^2X_2X_3 + X_2^2X_3X_1+X_3^2X_1X_2)$"
   ]
  },
  {
   "cell_type": "markdown",
   "metadata": {},
   "source": [
    "$E[X_1^4] = E[X_2^4] = E[X_3^4] = c$ `because they are i.i.d`\n",
    "\n",
    "$E[X_1^3X_2] = b \\cdot 0 = 0$\n",
    "\n",
    "$E[X_1^2X_2^2] = a \\cdot a = a^2$\n",
    "\n",
    "$E[X_1^2X_2X_3] = a \\cdot 0 \\cdot 0 = 0$"
   ]
  },
  {
   "cell_type": "markdown",
   "metadata": {},
   "source": [
    "$E[\\overline x_3^4] = E[(\\frac{X_1+X_2+X_3}{3})^4] = (\\frac{1}{3})^4E[(X_1+X_2+X_3)^4]$"
   ]
  },
  {
   "cell_type": "markdown",
   "metadata": {},
   "source": [
    "$(\\frac{1}{3^4}(E[X_1^4] + E[X_2^4] + E[X_3^4] + 6(E[X_1^2X_2^2]+E[X_1^2X_3^2]+E[X_2^2X_3^2]))$\n",
    "\n",
    "$(\\frac{1}{3^4}(c + c + c + 6(a^2+a^2+a^2))$\n",
    "\n",
    "$(\\frac{1}{3^4}(3c + 18a^2))$\n"
   ]
  },
  {
   "cell_type": "markdown",
   "metadata": {},
   "source": [
    "$ = \\frac{c}{3^3} + \\frac{2a^2}{3^2}$\n",
    "\n",
    "$ = \\frac{c}{n^3} + \\frac{2a^2}{n^2}$"
   ]
  },
  {
   "cell_type": "code",
   "execution_count": null,
   "metadata": {},
   "outputs": [],
   "source": []
  },
  {
   "cell_type": "code",
   "execution_count": null,
   "metadata": {},
   "outputs": [],
   "source": []
  }
 ],
 "metadata": {
  "kernelspec": {
   "display_name": "R",
   "language": "R",
   "name": "ir"
  },
  "language_info": {
   "codemirror_mode": "r",
   "file_extension": ".r",
   "mimetype": "text/x-r-source",
   "name": "R",
   "pygments_lexer": "r",
   "version": "3.6.1"
  }
 },
 "nbformat": 4,
 "nbformat_minor": 2
}
